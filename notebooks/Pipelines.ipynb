{
 "cells": [
  {
   "cell_type": "code",
   "execution_count": 1,
   "metadata": {},
   "outputs": [
    {
     "name": "stdout",
     "output_type": "stream",
     "text": [
      "['legitimate' 'spam' 'legitimate' ... 'spam' 'legitimate' 'legitimate']\n",
      "0.9629\n"
     ]
    }
   ],
   "source": [
    "from sklearn.metrics import f1_score\n",
    "from sklearn.pipeline import Pipeline\n",
    "import pickle, os\n",
    "\n",
    "# X_train and X_test are lists of strings, each \n",
    "# representing one document\n",
    "# y_train and y_test are vectors of labels\n",
    "\n",
    "import pandas as pd\n",
    "df = pd.read_parquet(\"data/training.parquet\")\n",
    "from sklearn import model_selection\n",
    "train, test = model_selection.train_test_split(df, random_state=43)\n",
    "X_train = train[\"text\"]\n",
    "y_train = train[\"label\"]\n",
    "\n",
    "X_test = test[\"text\"]\n",
    "y_test = test[\"label\"]\n",
    "# this calculates a vector of term frequencies for \n",
    "# each document\n",
    "\n",
    "## loading in feature vectors pipeline\n",
    "import pickle, os\n",
    "filename = 'feature_pipeline.sav'\n",
    "feat_pipeline = pickle.load(open(filename, 'rb'))\n",
    "\n",
    "## loading model\n",
    "filename = 'model.sav'\n",
    "model = pickle.load(open(filename, 'rb'))\n",
    "\n",
    "\n",
    "\n",
    "pipeline = Pipeline([\n",
    "    ('features',feat_pipeline),\n",
    "    ('model',model)\n",
    "])\n",
    "\n",
    "# call fit as you would on any classifier\n",
    "# pipeline.fit(X_train,y_train)\n",
    "\n",
    "# predict test instances\n",
    "y_preds = pipeline.predict(X_test)\n",
    "print(y_preds)\n",
    "\n",
    "# calculate f1\n",
    "mean_f1 = f1_score(y_test, y_preds, average='micro')\n",
    "print(mean_f1)"
   ]
  },
  {
   "cell_type": "code",
   "execution_count": 2,
   "metadata": {},
   "outputs": [],
   "source": [
    "ddf = pd.read_json(\"\"\"[{\"text\" : \"It is a truth universally acknowledged\"}, \n",
    "{\"text\" : \"I have never seen a more disgusting dog food\"}]\"\"\", orient=\"records\")"
   ]
  },
  {
   "cell_type": "code",
   "execution_count": 6,
   "metadata": {},
   "outputs": [
    {
     "data": {
      "text/plain": [
       "array(['legitimate', 'spam'], dtype=object)"
      ]
     },
     "execution_count": 6,
     "metadata": {},
     "output_type": "execute_result"
    }
   ],
   "source": [
    "pipeline.predict(ddf.squeeze())"
   ]
  },
  {
   "cell_type": "code",
   "execution_count": 4,
   "metadata": {},
   "outputs": [
    {
     "data": {
      "text/plain": [
       "pandas.core.series.Series"
      ]
     },
     "execution_count": 4,
     "metadata": {},
     "output_type": "execute_result"
    }
   ],
   "source": [
    "type(X_test.sample(10))"
   ]
  },
  {
   "cell_type": "code",
   "execution_count": 54,
   "metadata": {},
   "outputs": [
    {
     "data": {
      "text/html": [
       "<div>\n",
       "<style scoped>\n",
       "    .dataframe tbody tr th:only-of-type {\n",
       "        vertical-align: middle;\n",
       "    }\n",
       "\n",
       "    .dataframe tbody tr th {\n",
       "        vertical-align: top;\n",
       "    }\n",
       "\n",
       "    .dataframe thead th {\n",
       "        text-align: right;\n",
       "    }\n",
       "</style>\n",
       "<table border=\"1\" class=\"dataframe\">\n",
       "  <thead>\n",
       "    <tr style=\"text-align: right;\">\n",
       "      <th></th>\n",
       "      <th>0</th>\n",
       "    </tr>\n",
       "  </thead>\n",
       "  <tbody>\n",
       "    <tr>\n",
       "      <th>0</th>\n",
       "      <td>dog food</td>\n",
       "    </tr>\n",
       "    <tr>\n",
       "      <th>1</th>\n",
       "      <td>Well, she went on to say something sensible, b...</td>\n",
       "    </tr>\n",
       "  </tbody>\n",
       "</table>\n",
       "</div>"
      ],
      "text/plain": [
       "                                                   0\n",
       "0                                           dog food\n",
       "1  Well, she went on to say something sensible, b..."
      ]
     },
     "execution_count": 54,
     "metadata": {},
     "output_type": "execute_result"
    }
   ],
   "source": [
    "ddf2 = pd.read_json(\"\"\"[\"dog food\", \"Well, she went on to say something sensible, but knew not what answer she returned to the Park, and Elinor was not blinded by the beauty, or the shrewd look of the youngest, to her want of sense.\"]\"\"\", orient=\"records\")\n",
    "ddf2"
   ]
  },
  {
   "cell_type": "code",
   "execution_count": 55,
   "metadata": {},
   "outputs": [
    {
     "data": {
      "text/plain": [
       "array(['spam', 'legitimate'], dtype=object)"
      ]
     },
     "execution_count": 55,
     "metadata": {},
     "output_type": "execute_result"
    }
   ],
   "source": [
    "pred = ddf2\n",
    "if len(ddf2.values) > 1 and len(ddf2.columns) == 1:\n",
    "    pred = ddf2.squeeze()\n",
    "pipeline.predict(pred)"
   ]
  },
  {
   "cell_type": "code",
   "execution_count": 74,
   "metadata": {},
   "outputs": [
    {
     "data": {
      "text/html": [
       "<div>\n",
       "<style scoped>\n",
       "    .dataframe tbody tr th:only-of-type {\n",
       "        vertical-align: middle;\n",
       "    }\n",
       "\n",
       "    .dataframe tbody tr th {\n",
       "        vertical-align: top;\n",
       "    }\n",
       "\n",
       "    .dataframe thead th {\n",
       "        text-align: right;\n",
       "    }\n",
       "</style>\n",
       "<table border=\"1\" class=\"dataframe\">\n",
       "  <thead>\n",
       "    <tr style=\"text-align: right;\">\n",
       "      <th></th>\n",
       "      <th>0</th>\n",
       "    </tr>\n",
       "  </thead>\n",
       "  <tbody>\n",
       "    <tr>\n",
       "      <th>0</th>\n",
       "      <td>It is a truth universally acknowledged</td>\n",
       "    </tr>\n",
       "  </tbody>\n",
       "</table>\n",
       "</div>"
      ],
      "text/plain": [
       "                                        0\n",
       "0  It is a truth universally acknowledged"
      ]
     },
     "execution_count": 74,
     "metadata": {},
     "output_type": "execute_result"
    }
   ],
   "source": [
    "ddf3 = pd.read_json(\"\"\"[\"It is a truth universally acknowledged\"]\"\"\", orient=\"records\")\n",
    "ddf3"
   ]
  },
  {
   "cell_type": "code",
   "execution_count": 75,
   "metadata": {},
   "outputs": [
    {
     "data": {
      "text/plain": [
       "array(['legitimate'], dtype=object)"
      ]
     },
     "execution_count": 75,
     "metadata": {},
     "output_type": "execute_result"
    }
   ],
   "source": [
    "pred = ddf3\n",
    "if len(ddf3.values) > 1 and len(ddf3.columns) == 1:\n",
    "    pred = ddf3.squeeze()\n",
    "else:\n",
    "    pred = [ddf3.squeeze()]\n",
    "pipeline.predict(pred)"
   ]
  },
  {
   "cell_type": "code",
   "execution_count": 73,
   "metadata": {},
   "outputs": [
    {
     "data": {
      "text/plain": [
       "'[\"Mr. Dashwood\\'s disappointment was, at first, severe; but his temper was not his great perfection; and, indeed, with such a woman therefore there would be no difference of sentiment. It is a lovely night, and they are very pleasing women when you converse with them. His mother and sisters were spared much solicitude on her account. Mr. Tilney drank tea with us, and I have something of consequence to anybody.\",\"Do not hesitate to eat them for breakfast you\\'d probably want it sweeter. Highly recommended, the price is unbeatable for the quality. I commonly order jerky from all over the world! By the time I got the banana nut bread bar was absolutely delicious. This is really a great product. PLEASE start selling again!!! Okay another reviewer pointed out, though it is clearly labeled berry and they swiped their sticker that says Back Mountain Gift Baskets. But worth every penny.\"]'"
      ]
     },
     "execution_count": 73,
     "metadata": {},
     "output_type": "execute_result"
    }
   ],
   "source": [
    "df[\"text\"].sample(2).to_json(orient=\"records\")"
   ]
  },
  {
   "cell_type": "code",
   "execution_count": 68,
   "metadata": {},
   "outputs": [
    {
     "data": {
      "text/plain": [
       "array(['legitimate'], dtype=object)"
      ]
     },
     "execution_count": 68,
     "metadata": {},
     "output_type": "execute_result"
    }
   ],
   "source": [
    "pipeline.predict()"
   ]
  },
  {
   "cell_type": "code",
   "execution_count": null,
   "metadata": {},
   "outputs": [],
   "source": []
  }
 ],
 "metadata": {
  "kernelspec": {
   "display_name": "Python 3.6",
   "language": "python",
   "name": "jupyter"
  },
  "language_info": {
   "codemirror_mode": {
    "name": "ipython",
    "version": 3
   },
   "file_extension": ".py",
   "mimetype": "text/x-python",
   "name": "python",
   "nbconvert_exporter": "python",
   "pygments_lexer": "ipython3",
   "version": "3.6.5"
  }
 },
 "nbformat": 4,
 "nbformat_minor": 2
}
