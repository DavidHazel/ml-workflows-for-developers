{
 "cells": [
  {
   "cell_type": "markdown",
   "metadata": {},
   "source": [
    "In this notebook we will process the synthetic Austen/food reviews data and convert it into feature vectors. In later notebooks these feature vectors will be the inputs to models which we will train and eventually use to identify spam. "
   ]
  },
  {
   "cell_type": "code",
   "execution_count": 1,
   "metadata": {},
   "outputs": [
    {
     "name": "stderr",
     "output_type": "stream",
     "text": [
      "/anaconda2/envs/ml-workflows-for-developers/lib/python3.6/site-packages/pyarrow/pandas_compat.py:708: FutureWarning: .labels was deprecated in version 0.24.0. Use .codes instead.\n",
      "  labels = getattr(columns, 'labels', None) or [\n",
      "/anaconda2/envs/ml-workflows-for-developers/lib/python3.6/site-packages/pyarrow/pandas_compat.py:735: FutureWarning: the 'labels' keyword is deprecated, use 'codes' instead\n",
      "  return pd.MultiIndex(levels=new_levels, labels=labels, names=columns.names)\n",
      "/anaconda2/envs/ml-workflows-for-developers/lib/python3.6/site-packages/pyarrow/pandas_compat.py:752: FutureWarning: .labels was deprecated in version 0.24.0. Use .codes instead.\n",
      "  labels, = index.labels\n"
     ]
    }
   ],
   "source": [
    "import pandas as pd\n",
    "\n",
    "df = pd.read_parquet(\"data/training.parquet\")"
   ]
  },
  {
   "cell_type": "markdown",
   "metadata": {},
   "source": [
    "## Term Frequency - Indverse Document Frequency (TF-IDF)\n",
    "\n",
    "Term Frequency - Inverse Document Frequency, know as TF-IDF, is a vector of numbers which aim to capture how important different words are within a set of documents. If we consider a standard set of documents (e.g. webpages, news articles, or tweets) one would expect most to contain stop words such as \"a\", \"the\" or \"in\". \n",
    "\n",
    "Considering only raw word count, these words will appear frequently however are not of interest - they don't tell us what the document is about.\n",
    "\n",
    "TF-IDF combines word count, or term frequency, with the inverse document frequency in order to identify words, or terms, which are 'intersting' or important within the document. \n",
    "\n",
    "\n",
    "It is a combination of two different metrics: \n",
    "\n",
    "#### Term Frequency\n",
    "The first is Term Frequency.\n",
    "\n",
    "The term frequency of term $t$ in document $d$, which we denote $Tf(t, d)$, is simply a count of the number of times the term $t$ appears in the document $d$. \n",
    "\n",
    "#### Inverse Document Frequency\n",
    "\n",
    "Inverse Document Frequency, or idf, indicates whether a word is popular or rare, across documents. \n",
    "\n",
    "The inverse document frequency of a term $t$, across a set of $N$ documents is the logarithm of the ratio of $N$ divided by the number of documents in which term $t$ appears: \n",
    "\n",
    "$idf(t) = log\\left(1+ \\frac{N}{\\text{number of documents containing }t +1}\\right)$ +1\n",
    "\n",
    "The $+ 1$ present in the denominator prevents division by zero, which would occur if a term $t$ was present in none of the documents. \n",
    "\n",
    "Multpilying together the TF and the IDF, for a given document $d$ and term $t$ we can compute the TF-IDF:\n",
    "\n",
    "### TF-idf\n",
    "\n",
    "For a term t and a document d, the TF-idf is given by: \n",
    "\n",
    "$tf-idf(t,d) = tf(t,d) \\times idf(t)$\n",
    "\n",
    "\n",
    "\n",
    "The resultant set of vecs for a given document are then normalised. \n",
    "\n",
    "Note: there are variations upon the equations for term frequency and idf, which we do not consider here. The equations given above are those used by the scikit learn library."
   ]
  },
  {
   "cell_type": "markdown",
   "metadata": {},
   "source": [
    "### Implementation: \n",
    "\n",
    "The scikit-learn module contains a set of feature extraction functions which take in text documents and return feature vectors. Tf-idf is computed using the TfidfVectorizer function. By default, the function splits all documents into words, and discounts any 1-letter words as well as punctuation. From there, the function makes a count matrix showing the frequency of the words across the documents. This is then used to compute the Tf-idf.   "
   ]
  },
  {
   "cell_type": "code",
   "execution_count": 2,
   "metadata": {},
   "outputs": [],
   "source": [
    "from sklearn.feature_extraction.text import TfidfVectorizer\n",
    "\n",
    "#initialising the vectorizer, with default parameters. \n",
    "vectorizer = TfidfVectorizer()"
   ]
  },
  {
   "cell_type": "code",
   "execution_count": 3,
   "metadata": {},
   "outputs": [
    {
     "data": {
      "text/plain": [
       "TfidfVectorizer(analyzer='word', binary=False, decode_error='strict',\n",
       "        dtype=<class 'numpy.float64'>, encoding='utf-8', input='content',\n",
       "        lowercase=True, max_df=1.0, max_features=None, min_df=1,\n",
       "        ngram_range=(1, 1), norm='l2', preprocessor=None, smooth_idf=True,\n",
       "        stop_words=None, strip_accents=None, sublinear_tf=False,\n",
       "        token_pattern='(?u)\\\\b\\\\w\\\\w+\\\\b', tokenizer=None, use_idf=True,\n",
       "        vocabulary=None)"
      ]
     },
     "execution_count": 3,
     "metadata": {},
     "output_type": "execute_result"
    }
   ],
   "source": [
    "#We can take a look at the vectorizer. \n",
    "vectorizer"
   ]
  },
  {
   "cell_type": "markdown",
   "metadata": {},
   "source": [
    "### parameters: \n",
    "    analyzer: {'word', 'char', 'char_wb'} determines whether features (terms) should be words, n-grams (strings of n characters) or only n-grams within word boundaries.\n",
    "    binary: if False, term frequencies are computed as raw counts of terms. if True, term frequencies are taken to be 1 if the term is present at least once, and 0 otherwise.\n",
    "    stop_words: can take in a list of 'stop words' such as 'is', 'was', 'as', and 'the', which will not be included in the terms considered when computing tfidf. note that this can also be controlled by lowering the following parameter: \n",
    "    max_df: takes a float from 0.0 to 1.0. if a term appears in more than max_df fraction of documents it will not be included in the list of considered terms. \n"
   ]
  },
  {
   "cell_type": "code",
   "execution_count": 8,
   "metadata": {},
   "outputs": [
    {
     "data": {
      "text/plain": [
       "<2000x11121 sparse matrix of type '<class 'numpy.float64'>'\n",
       "\twith 129952 stored elements in Compressed Sparse Row format>"
      ]
     },
     "execution_count": 8,
     "metadata": {},
     "output_type": "execute_result"
    }
   ],
   "source": [
    "#The fit_transform function computes the tf-idf vectors for the simulated data. \n",
    "\n",
    "tf_idf = vectorizer.fit_transform(df[\"text\"])\n",
    "tf_idf"
   ]
  },
  {
   "cell_type": "code",
   "execution_count": 20,
   "metadata": {},
   "outputs": [
    {
     "name": "stdout",
     "output_type": "stream",
     "text": [
      "  (0, 11081)\t0.037445397287015666\n",
      "  (0, 6593)\t0.06647960706903334\n",
      "  (0, 11021)\t0.11419958815587786\n",
      "  (0, 10090)\t0.07382689335491247\n",
      "  (0, 6240)\t0.10096923990687869\n",
      "  (0, 1717)\t0.09446965819170754\n",
      "  (0, 8984)\t0.1638948273956066\n",
      "  (0, 658)\t0.07150959755522736\n",
      "  (0, 9972)\t0.0554825888993784\n",
      "  (0, 783)\t0.04264051197112491\n",
      "  (0, 7013)\t0.06089781009426667\n",
      "  (0, 1961)\t0.11617484630876207\n",
      "  (0, 10865)\t0.057215452190075455\n",
      "  (0, 606)\t0.11887840310016683\n",
      "  (0, 6803)\t0.0620063376540027\n",
      "  (0, 8626)\t0.0998344424562198\n",
      "  (0, 9958)\t0.06583711161334001\n",
      "  (0, 6700)\t0.06484976565309741\n",
      "  (0, 1445)\t0.13272353859255703\n",
      "  (0, 5471)\t0.10337724428812725\n",
      "  (0, 9978)\t0.039288791636846336\n",
      "  (0, 10904)\t0.05367931948843717\n",
      "  (0, 8012)\t0.09483647351028074\n",
      "  (0, 10103)\t0.09375494859210098\n",
      "  (0, 4861)\t0.15900198273087807\n",
      "  :\t:\n",
      "  (1998, 8998)\t0.20770317666438837\n",
      "  (1999, 10090)\t0.08052063964708878\n",
      "  (1999, 658)\t0.07799323897285004\n",
      "  (1999, 9958)\t0.10770965901554154\n",
      "  (1999, 5471)\t0.08456269920857518\n",
      "  (1999, 1118)\t0.17514218469827522\n",
      "  (1999, 5458)\t0.10004219860540935\n",
      "  (1999, 9961)\t0.14721890250015907\n",
      "  (1999, 6778)\t0.11108838338918912\n",
      "  (1999, 6894)\t0.08547995985101539\n",
      "  (1999, 4783)\t0.244436877914194\n",
      "  (1999, 6597)\t0.11754502163855308\n",
      "  (1999, 10131)\t0.1929663042552897\n",
      "  (1999, 6027)\t0.18356362565690754\n",
      "  (1999, 9968)\t0.14596348450506136\n",
      "  (1999, 1195)\t0.22605008056850723\n",
      "  (1999, 10248)\t0.23500514737701833\n",
      "  (1999, 9984)\t0.24673327212985327\n",
      "  (1999, 10800)\t0.16590196306857782\n",
      "  (1999, 5624)\t0.33483860620663525\n",
      "  (1999, 9857)\t0.1906459594211959\n",
      "  (1999, 3657)\t0.23869364938134635\n",
      "  (1999, 263)\t0.30340339807268546\n",
      "  (1999, 3548)\t0.3056269000575683\n",
      "  (1999, 9483)\t0.3677612480243218\n"
     ]
    }
   ],
   "source": []
  },
  {
   "cell_type": "code",
   "execution_count": 23,
   "metadata": {},
   "outputs": [
    {
     "data": {
      "text/plain": [
       "(2000, 11121)"
      ]
     },
     "execution_count": 23,
     "metadata": {},
     "output_type": "execute_result"
    }
   ],
   "source": [
    "tf_idf.shape"
   ]
  },
  {
   "cell_type": "code",
   "execution_count": 62,
   "metadata": {},
   "outputs": [
    {
     "data": {
      "text/plain": [
       "['00', '000', '01', '03', '05', '06', '07', '08', '09', '0g']"
      ]
     },
     "execution_count": 62,
     "metadata": {},
     "output_type": "execute_result"
    }
   ],
   "source": [
    "vectorizer.get_feature_names()[0:10]"
   ]
  },
  {
   "cell_type": "markdown",
   "metadata": {},
   "source": [
    "if we look at the first 10 feature names, which we expect to be words because we used the defaults from the , we see that they are nonsense. \n",
    "\n",
    "On one hand, this doesn't really matter - many feature engingeering techniques generate features which are not explainable. On the other hand, we thought we were getting words. "
   ]
  },
  {
   "cell_type": "code",
   "execution_count": 41,
   "metadata": {},
   "outputs": [
    {
     "name": "stdout",
     "output_type": "stream",
     "text": [
      "  (342, 0)\t0.15497173855249344\n",
      "  (935, 0)\t0.09357464860043498\n",
      "  (947, 0)\t0.11922929676832385\n",
      "  (979, 0)\t0.13528214068910932\n",
      "  (1128, 0)\t0.1122534746577168\n",
      "  (1244, 0)\t0.1296948418074572\n",
      "  (1570, 0)\t0.20797516195989615\n",
      "  (1693, 0)\t0.09633887341614138\n",
      "  (1719, 0)\t0.14496356963282298\n",
      "  (1753, 0)\t0.15047467442804296\n",
      "  (1852, 0)\t0.12384227128620147\n",
      "  (1878, 0)\t0.1309043357630492\n",
      "  (1908, 0)\t0.24842177813585903\n",
      "  (1960, 0)\t0.12234175060680996\n"
     ]
    }
   ],
   "source": [
    "print(tf_idf[:,0]) #This tells us that '000' appears in 14 of the docs. let's double check \n"
   ]
  },
  {
   "cell_type": "code",
   "execution_count": 63,
   "metadata": {},
   "outputs": [
    {
     "name": "stdout",
     "output_type": "stream",
     "text": [
      "342    English, Scottish and Irish and even decaf for after 6:00 PM. I was very unwilling to go as well from real humanity and good-nature, as from a dislike of Edward; and it ended, as every feeling declared him now to be? Disappointed that the recommended amt of treats is only 10.. They were sick with horror, while he examined; but he was sure there could not but triumph. Of every accomplishment accustomary to my sex, I was Mistress.\n",
      "Name: text, dtype: object\n"
     ]
    }
   ],
   "source": [
    "print(df[342:343][\"text\"])"
   ]
  },
  {
   "cell_type": "code",
   "execution_count": null,
   "metadata": {},
   "outputs": [],
   "source": [
    "# we see the double 0 there."
   ]
  },
  {
   "cell_type": "code",
   "execution_count": 64,
   "metadata": {},
   "outputs": [],
   "source": [
    "vectorizer2 = TfidfVectorizer(stop_words='english')\n"
   ]
  },
  {
   "cell_type": "code",
   "execution_count": 65,
   "metadata": {},
   "outputs": [
    {
     "data": {
      "text/plain": [
       "TfidfVectorizer(analyzer='word', binary=False, decode_error='strict',\n",
       "        dtype=<class 'numpy.float64'>, encoding='utf-8', input='content',\n",
       "        lowercase=True, max_df=1.0, max_features=None, min_df=1,\n",
       "        ngram_range=(1, 1), norm='l2', preprocessor=None, smooth_idf=True,\n",
       "        stop_words='english', strip_accents=None, sublinear_tf=False,\n",
       "        token_pattern='(?u)\\\\b\\\\w\\\\w+\\\\b', tokenizer=None, use_idf=True,\n",
       "        vocabulary=None)"
      ]
     },
     "execution_count": 65,
     "metadata": {},
     "output_type": "execute_result"
    }
   ],
   "source": [
    "vectorizer2"
   ]
  },
  {
   "cell_type": "code",
   "execution_count": 66,
   "metadata": {},
   "outputs": [
    {
     "data": {
      "text/plain": [
       "<2000x10828 sparse matrix of type '<class 'numpy.float64'>'\n",
       "\twith 69803 stored elements in Compressed Sparse Row format>"
      ]
     },
     "execution_count": 66,
     "metadata": {},
     "output_type": "execute_result"
    }
   ],
   "source": [
    "tf_idf2 = vectorizer2.fit_transform(df[\"text\"])\n",
    "tf_idf2"
   ]
  },
  {
   "cell_type": "code",
   "execution_count": 67,
   "metadata": {},
   "outputs": [
    {
     "data": {
      "text/plain": [
       "['00', '000', '01', '03', '05', '06', '07', '08', '09', '0g']"
      ]
     },
     "execution_count": 67,
     "metadata": {},
     "output_type": "execute_result"
    }
   ],
   "source": [
    "vectorizer2.get_feature_names()[0:10]"
   ]
  },
  {
   "cell_type": "code",
   "execution_count": 83,
   "metadata": {},
   "outputs": [],
   "source": [
    "vectorizer3 =  TfidfVectorizer(min_df=20)"
   ]
  },
  {
   "cell_type": "code",
   "execution_count": 84,
   "metadata": {},
   "outputs": [
    {
     "data": {
      "text/plain": [
       "<2000x913 sparse matrix of type '<class 'numpy.float64'>'\n",
       "\twith 98179 stored elements in Compressed Sparse Row format>"
      ]
     },
     "execution_count": 84,
     "metadata": {},
     "output_type": "execute_result"
    }
   ],
   "source": [
    "tf_idf3 = vectorizer3.fit_transform(df[\"text\"])\n",
    "tf_idf3"
   ]
  },
  {
   "cell_type": "code",
   "execution_count": 85,
   "metadata": {},
   "outputs": [
    {
     "data": {
      "text/plain": [
       "['10',\n",
       " '100',\n",
       " '50',\n",
       " 'able',\n",
       " 'about',\n",
       " 'absolutely',\n",
       " 'account',\n",
       " 'actually',\n",
       " 'add',\n",
       " 'added']"
      ]
     },
     "execution_count": 85,
     "metadata": {},
     "output_type": "execute_result"
    }
   ],
   "source": [
    "vectorizer3.get_feature_names()[0:10]"
   ]
  },
  {
   "cell_type": "code",
   "execution_count": null,
   "metadata": {},
   "outputs": [],
   "source": []
  }
 ],
 "metadata": {
  "kernelspec": {
   "display_name": "Python 3",
   "language": "python",
   "name": "python3"
  },
  "language_info": {
   "codemirror_mode": {
    "name": "ipython",
    "version": 3
   },
   "file_extension": ".py",
   "mimetype": "text/x-python",
   "name": "python",
   "nbconvert_exporter": "python",
   "pygments_lexer": "ipython3",
   "version": "3.6.8"
  }
 },
 "nbformat": 4,
 "nbformat_minor": 2
}
