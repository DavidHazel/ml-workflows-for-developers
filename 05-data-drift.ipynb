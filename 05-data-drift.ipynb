{
 "cells": [
  {
   "cell_type": "markdown",
   "metadata": {},
   "source": [
    "Suppose the spam generator becomes more intelligent and begins producing prose which looks \"more legitimate\" than before. \n",
    "\n",
    "There are numerous ways the prose could become more like legitimate text. For the purpose of this notebook we will simply force the spam data to 'drift' by adding the first few lines of Pride and Prejudice to the start of the spam documents in our testing set. We will then see how the trained model responds.  "
   ]
  },
  {
   "cell_type": "code",
   "execution_count": 1,
   "metadata": {},
   "outputs": [
    {
     "name": "stderr",
     "output_type": "stream",
     "text": [
      "/anaconda2/envs/ml-workflows-for-developers/lib/python3.6/site-packages/pyarrow/pandas_compat.py:708: FutureWarning: .labels was deprecated in version 0.24.0. Use .codes instead.\n",
      "  labels = getattr(columns, 'labels', None) or [\n",
      "/anaconda2/envs/ml-workflows-for-developers/lib/python3.6/site-packages/pyarrow/pandas_compat.py:735: FutureWarning: the 'labels' keyword is deprecated, use 'codes' instead\n",
      "  return pd.MultiIndex(levels=new_levels, labels=labels, names=columns.names)\n",
      "/anaconda2/envs/ml-workflows-for-developers/lib/python3.6/site-packages/pyarrow/pandas_compat.py:752: FutureWarning: .labels was deprecated in version 0.24.0. Use .codes instead.\n",
      "  labels, = index.labels\n"
     ]
    }
   ],
   "source": [
    "import pandas as pd\n",
    "df = pd.read_parquet(\"data/training.parquet\")"
   ]
  },
  {
   "cell_type": "code",
   "execution_count": 2,
   "metadata": {},
   "outputs": [],
   "source": [
    "from sklearn import model_selection\n",
    "\n",
    "\n",
    "df_train, df_test = model_selection.train_test_split(df, random_state=43)\n",
    "df_test_spam = df_test[df_test.label == 'spam'].copy()"
   ]
  },
  {
   "cell_type": "code",
   "execution_count": 3,
   "metadata": {},
   "outputs": [],
   "source": [
    "def add_text(doc, adds):\n",
    "    \"\"\"\n",
    "    takes in a string _doc_ and\n",
    "    appends text _adds_ to the start\n",
    "    \"\"\"\n",
    "    \n",
    "    return adds + doc"
   ]
  },
  {
   "cell_type": "code",
   "execution_count": 4,
   "metadata": {},
   "outputs": [],
   "source": [
    "pride_pred = '''It is a truth universally acknowledged, that a single man in possession of a good fortune, must be in want of a wife.However little known the feelings or views of such a man may be on his first entering a neighbourhood, this truth is so well fixed in the minds of the surrounding families, that he is considered the rightful property of some one or other of their daughters.“My dear Mr. Bennet,” said his lady to him one day, “have you heard that Netherfield Park is let at last?” Mr. Bennet replied that he had not. “But it is,” returned she; “for Mrs. Long has just been here, and she told me all about it.” Mr. Bennet made no answer. “Do you not want to know who has taken it?” cried his wife impatiently.'''"
   ]
  },
  {
   "cell_type": "code",
   "execution_count": 5,
   "metadata": {},
   "outputs": [],
   "source": [
    "df_test_spam[\"text\"] = df_test_spam.text.apply(add_text, adds=pride_pred)"
   ]
  },
  {
   "cell_type": "code",
   "execution_count": 6,
   "metadata": {},
   "outputs": [
    {
     "data": {
      "text/html": [
       "<div>\n",
       "<style scoped>\n",
       "    .dataframe tbody tr th:only-of-type {\n",
       "        vertical-align: middle;\n",
       "    }\n",
       "\n",
       "    .dataframe tbody tr th {\n",
       "        vertical-align: top;\n",
       "    }\n",
       "\n",
       "    .dataframe thead th {\n",
       "        text-align: right;\n",
       "    }\n",
       "</style>\n",
       "<table border=\"1\" class=\"dataframe\">\n",
       "  <thead>\n",
       "    <tr style=\"text-align: right;\">\n",
       "      <th></th>\n",
       "      <th>index</th>\n",
       "      <th>label</th>\n",
       "      <th>text</th>\n",
       "    </tr>\n",
       "  </thead>\n",
       "  <tbody>\n",
       "    <tr>\n",
       "      <th>39419</th>\n",
       "      <td>19419</td>\n",
       "      <td>spam</td>\n",
       "      <td>It is a truth universally acknowledged, that a single man in possession of a good fortune, must be in want of a wife.However little known the feelings or views of such a man may be on his first entering a neighbourhood, this truth is so well fixed in the minds of the surrounding families, that he is considered the rightful property of some one or other of their daughters.“My dear Mr. Bennet,” said his lady to him one day, “have you heard that Netherfield Park is let at last?” Mr. Bennet replied that he had not. “But it is,” returned she; “for Mrs. Long has just been here, and she told me all about it.” Mr. Bennet made no answer. “Do you not want to know who has taken it?” cried his wife impatiently.I snack on them in short order.I have been unable to get a halfway decent replacement for Oreo's. They gave her shots and they slowly went away. There is none of the guilt!</td>\n",
       "    </tr>\n",
       "    <tr>\n",
       "      <th>21004</th>\n",
       "      <td>1004</td>\n",
       "      <td>spam</td>\n",
       "      <td>It is a truth universally acknowledged, that a single man in possession of a good fortune, must be in want of a wife.However little known the feelings or views of such a man may be on his first entering a neighbourhood, this truth is so well fixed in the minds of the surrounding families, that he is considered the rightful property of some one or other of their daughters.“My dear Mr. Bennet,” said his lady to him one day, “have you heard that Netherfield Park is let at last?” Mr. Bennet replied that he had not. “But it is,” returned she; “for Mrs. Long has just been here, and she told me all about it.” Mr. Bennet made no answer. “Do you not want to know who has taken it?” cried his wife impatiently.BUT, I really hate the new change and won't buy again. I prefer tendons or pizzles, since they last awhile. Definetly my favorite coffee shop. Compared to it's competetor, I'll never go back to Amazon and the price is very reasonable, it cost the same or even comparable to Dave's. Great organic product. No guilt, no high glycemic index to make you lose weight.Health benefits aside, we purchased these for my husband. This is a great thing, since it is much improved!! This is great!!! first time my husband and I have wanted nothing to do with the ritual to stand up to a lovely day while your supply lasts. Same thing. I finished every drop.</td>\n",
       "    </tr>\n",
       "    <tr>\n",
       "      <th>37910</th>\n",
       "      <td>17910</td>\n",
       "      <td>spam</td>\n",
       "      <td>It is a truth universally acknowledged, that a single man in possession of a good fortune, must be in want of a wife.However little known the feelings or views of such a man may be on his first entering a neighbourhood, this truth is so well fixed in the minds of the surrounding families, that he is considered the rightful property of some one or other of their daughters.“My dear Mr. Bennet,” said his lady to him one day, “have you heard that Netherfield Park is let at last?” Mr. Bennet replied that he had not. “But it is,” returned she; “for Mrs. Long has just been here, and she told me all about it.” Mr. Bennet made no answer. “Do you not want to know who has taken it?” cried his wife impatiently.She was chewing on hulls. Great alternative to other kinds of coffee has skyrocketed. There's very good directions for making them available to order in bulk until a couple of times until a friend recommended this to my vegan friends either. 3 stars. We have found it on Amazon and it was hot. I think they taste really fresh for a long time and I can report back if her tartar build-up has been reduced in half within a week. It is pretty much like chewing styrofoam! doesn't have a strong cheddar taste. you looking at the news on your computer. Mixed with chopped cooked hotdogs.</td>\n",
       "    </tr>\n",
       "  </tbody>\n",
       "</table>\n",
       "</div>"
      ],
      "text/plain": [
       "       index label  \\\n",
       "39419  19419  spam   \n",
       "21004  1004   spam   \n",
       "37910  17910  spam   \n",
       "\n",
       "                                                                                                                                                                                                                                                                                                                                                                                                                                                                                                                                                                                                                                                                                                                                                                                                                                                                                                                                                                                                                                                                                                                                                                                                                                                                                                                                                                                                            text  \n",
       "39419  It is a truth universally acknowledged, that a single man in possession of a good fortune, must be in want of a wife.However little known the feelings or views of such a man may be on his first entering a neighbourhood, this truth is so well fixed in the minds of the surrounding families, that he is considered the rightful property of some one or other of their daughters.“My dear Mr. Bennet,” said his lady to him one day, “have you heard that Netherfield Park is let at last?” Mr. Bennet replied that he had not. “But it is,” returned she; “for Mrs. Long has just been here, and she told me all about it.” Mr. Bennet made no answer. “Do you not want to know who has taken it?” cried his wife impatiently.I snack on them in short order.I have been unable to get a halfway decent replacement for Oreo's. They gave her shots and they slowly went away. There is none of the guilt!                                                                                                                                                                                                                                                                                                                                                                                                                                                                                           \n",
       "21004  It is a truth universally acknowledged, that a single man in possession of a good fortune, must be in want of a wife.However little known the feelings or views of such a man may be on his first entering a neighbourhood, this truth is so well fixed in the minds of the surrounding families, that he is considered the rightful property of some one or other of their daughters.“My dear Mr. Bennet,” said his lady to him one day, “have you heard that Netherfield Park is let at last?” Mr. Bennet replied that he had not. “But it is,” returned she; “for Mrs. Long has just been here, and she told me all about it.” Mr. Bennet made no answer. “Do you not want to know who has taken it?” cried his wife impatiently.BUT, I really hate the new change and won't buy again. I prefer tendons or pizzles, since they last awhile. Definetly my favorite coffee shop. Compared to it's competetor, I'll never go back to Amazon and the price is very reasonable, it cost the same or even comparable to Dave's. Great organic product. No guilt, no high glycemic index to make you lose weight.Health benefits aside, we purchased these for my husband. This is a great thing, since it is much improved!! This is great!!! first time my husband and I have wanted nothing to do with the ritual to stand up to a lovely day while your supply lasts. Same thing. I finished every drop.  \n",
       "37910  It is a truth universally acknowledged, that a single man in possession of a good fortune, must be in want of a wife.However little known the feelings or views of such a man may be on his first entering a neighbourhood, this truth is so well fixed in the minds of the surrounding families, that he is considered the rightful property of some one or other of their daughters.“My dear Mr. Bennet,” said his lady to him one day, “have you heard that Netherfield Park is let at last?” Mr. Bennet replied that he had not. “But it is,” returned she; “for Mrs. Long has just been here, and she told me all about it.” Mr. Bennet made no answer. “Do you not want to know who has taken it?” cried his wife impatiently.She was chewing on hulls. Great alternative to other kinds of coffee has skyrocketed. There's very good directions for making them available to order in bulk until a couple of times until a friend recommended this to my vegan friends either. 3 stars. We have found it on Amazon and it was hot. I think they taste really fresh for a long time and I can report back if her tartar build-up has been reduced in half within a week. It is pretty much like chewing styrofoam! doesn't have a strong cheddar taste. you looking at the news on your computer. Mixed with chopped cooked hotdogs.                                                                 "
      ]
     },
     "execution_count": 6,
     "metadata": {},
     "output_type": "execute_result"
    }
   ],
   "source": [
    "pd.set_option('display.max_colwidth', -1) #ensures that all the text is visible\n",
    "\n",
    "df_test_spam.sample(3)"
   ]
  },
  {
   "cell_type": "markdown",
   "metadata": {},
   "source": [
    "Need to compute the summaries on this. Using the function "
   ]
  },
  {
   "cell_type": "code",
   "execution_count": 7,
   "metadata": {},
   "outputs": [],
   "source": [
    "import re\n",
    "import numpy as np\n",
    "from sklearn.feature_extraction.stop_words import ENGLISH_STOP_WORDS\n",
    "\n",
    "def strip_punct(doc):\n",
    "    \"\"\"\n",
    "    takes in a document _doc_ and\n",
    "    returns a tuple of the punctuation-free\n",
    "    _doc_ and the count of punctuation in _doc_\n",
    "    \"\"\"\n",
    "    \n",
    "    return re.subn(r\"\"\"[!.><:;',@#~{}\\[\\]\\-_+=£$%^&()?]\"\"\", \"\", doc, count=0, flags=0)\n",
    "\n",
    "def caps(word):\n",
    "    return not word.islower()\n",
    "\n",
    "def isstopword(word):\n",
    "    return word in ENGLISH_STOP_WORDS\n",
    "\n",
    "def standard_summary(row):\n",
    "    \"\"\"\n",
    "    takes in an entry _row_ from the data and \n",
    "    computes each of the summaries then returns\n",
    "    the summaries in a tuple, along with the unique \n",
    "    'level_0' id\n",
    "    \"\"\"\n",
    "    \n",
    "    doc = row[\"text\"]\n",
    "\n",
    "    no_punct = strip_punct(doc)\n",
    "    \n",
    "    words = no_punct[0].split()\n",
    "    \n",
    "    number_words = len(words)\n",
    "    \n",
    "    word_length = [len(x) for x in words]\n",
    "    \n",
    "    mean_wl = sum(word_length)/number_words\n",
    "    \n",
    "    max_wl = max(word_length)\n",
    "    min_wl = min(word_length)\n",
    "\n",
    "    pc_90_wl = np.percentile(word_length, 90)\n",
    "    pc_10_wl = np.percentile(word_length, 10)\n",
    "    \n",
    "    upper = sum([caps(x) for x in words])\n",
    "    stop_words = sum([isstopword(x) for x in words])\n",
    "\n",
    "    return [ no_punct[1], number_words, mean_wl, max_wl, min_wl, pc_10_wl, pc_90_wl, upper, stop_words]"
   ]
  },
  {
   "cell_type": "code",
   "execution_count": 8,
   "metadata": {},
   "outputs": [],
   "source": [
    "features = df_test_spam.apply(standard_summary, axis=1).apply(pd.Series)\n",
    "features.columns = [\"num_punct\", \"num_words\", \"av_wl\", \"max_wl\", \"min_wl\", \"10_quantile\", \"90_quantile\", \"upper_case\", \"stop_words\"]"
   ]
  },
  {
   "cell_type": "code",
   "execution_count": 9,
   "metadata": {},
   "outputs": [
    {
     "data": {
      "text/html": [
       "<div>\n",
       "<style scoped>\n",
       "    .dataframe tbody tr th:only-of-type {\n",
       "        vertical-align: middle;\n",
       "    }\n",
       "\n",
       "    .dataframe tbody tr th {\n",
       "        vertical-align: top;\n",
       "    }\n",
       "\n",
       "    .dataframe thead th {\n",
       "        text-align: right;\n",
       "    }\n",
       "</style>\n",
       "<table border=\"1\" class=\"dataframe\">\n",
       "  <thead>\n",
       "    <tr style=\"text-align: right;\">\n",
       "      <th></th>\n",
       "      <th>num_punct</th>\n",
       "      <th>num_words</th>\n",
       "      <th>av_wl</th>\n",
       "      <th>max_wl</th>\n",
       "      <th>min_wl</th>\n",
       "      <th>10_quantile</th>\n",
       "      <th>90_quantile</th>\n",
       "      <th>upper_case</th>\n",
       "      <th>stop_words</th>\n",
       "    </tr>\n",
       "  </thead>\n",
       "  <tbody>\n",
       "    <tr>\n",
       "      <th>36401</th>\n",
       "      <td>27.0</td>\n",
       "      <td>195.0</td>\n",
       "      <td>4.174359</td>\n",
       "      <td>15.0</td>\n",
       "      <td>1.0</td>\n",
       "      <td>2.0</td>\n",
       "      <td>7.6</td>\n",
       "      <td>20.0</td>\n",
       "      <td>101.0</td>\n",
       "    </tr>\n",
       "    <tr>\n",
       "      <th>37887</th>\n",
       "      <td>32.0</td>\n",
       "      <td>222.0</td>\n",
       "      <td>4.234234</td>\n",
       "      <td>16.0</td>\n",
       "      <td>1.0</td>\n",
       "      <td>2.0</td>\n",
       "      <td>7.9</td>\n",
       "      <td>29.0</td>\n",
       "      <td>108.0</td>\n",
       "    </tr>\n",
       "    <tr>\n",
       "      <th>21287</th>\n",
       "      <td>34.0</td>\n",
       "      <td>258.0</td>\n",
       "      <td>4.248062</td>\n",
       "      <td>15.0</td>\n",
       "      <td>1.0</td>\n",
       "      <td>2.0</td>\n",
       "      <td>8.0</td>\n",
       "      <td>33.0</td>\n",
       "      <td>133.0</td>\n",
       "    </tr>\n",
       "    <tr>\n",
       "      <th>21154</th>\n",
       "      <td>51.0</td>\n",
       "      <td>261.0</td>\n",
       "      <td>4.279693</td>\n",
       "      <td>18.0</td>\n",
       "      <td>1.0</td>\n",
       "      <td>2.0</td>\n",
       "      <td>8.0</td>\n",
       "      <td>31.0</td>\n",
       "      <td>125.0</td>\n",
       "    </tr>\n",
       "  </tbody>\n",
       "</table>\n",
       "</div>"
      ],
      "text/plain": [
       "       num_punct  num_words     av_wl  max_wl  min_wl  10_quantile  \\\n",
       "36401  27.0       195.0      4.174359  15.0    1.0     2.0           \n",
       "37887  32.0       222.0      4.234234  16.0    1.0     2.0           \n",
       "21287  34.0       258.0      4.248062  15.0    1.0     2.0           \n",
       "21154  51.0       261.0      4.279693  18.0    1.0     2.0           \n",
       "\n",
       "       90_quantile  upper_case  stop_words  \n",
       "36401  7.6          20.0        101.0       \n",
       "37887  7.9          29.0        108.0       \n",
       "21287  8.0          33.0        133.0       \n",
       "21154  8.0          31.0        125.0       "
      ]
     },
     "execution_count": 9,
     "metadata": {},
     "output_type": "execute_result"
    }
   ],
   "source": [
    "features.sample(4)"
   ]
  },
  {
   "cell_type": "markdown",
   "metadata": {},
   "source": [
    "Now we can load in the models we generated earlier and see how well they classify these feature vectors. "
   ]
  },
  {
   "cell_type": "code",
   "execution_count": 10,
   "metadata": {},
   "outputs": [],
   "source": [
    "filename = 'models/lr_model_simplesummaries.sav'"
   ]
  },
  {
   "cell_type": "code",
   "execution_count": 11,
   "metadata": {},
   "outputs": [],
   "source": [
    "import pickle\n",
    "# load the model from disk\n",
    "loaded_model = pickle.load(open(filename, 'rb'))\n",
    "#result = loaded_model.score(X_test, Y_test)\n",
    "#print(result)"
   ]
  },
  {
   "cell_type": "code",
   "execution_count": 12,
   "metadata": {},
   "outputs": [
    {
     "data": {
      "text/plain": [
       "LogisticRegression(C=1.0, class_weight=None, dual=False, fit_intercept=True,\n",
       "          intercept_scaling=1, max_iter=4000, multi_class='warn',\n",
       "          n_jobs=None, penalty='l2', random_state=None, solver='lbfgs',\n",
       "          tol=0.0001, verbose=0, warm_start=False)"
      ]
     },
     "execution_count": 12,
     "metadata": {},
     "output_type": "execute_result"
    }
   ],
   "source": [
    "loaded_model"
   ]
  },
  {
   "cell_type": "code",
   "execution_count": 13,
   "metadata": {},
   "outputs": [],
   "source": [
    "predictions = loaded_model.predict(features.iloc[:,0:features.shape[1]])"
   ]
  },
  {
   "cell_type": "code",
   "execution_count": 14,
   "metadata": {},
   "outputs": [
    {
     "data": {
      "text/plain": [
       "array(['legitimate', 'legitimate', 'legitimate', ..., 'legitimate',\n",
       "       'legitimate', 'spam'], dtype=object)"
      ]
     },
     "execution_count": 14,
     "metadata": {},
     "output_type": "execute_result"
    }
   ],
   "source": [
    "predictions"
   ]
  },
  {
   "cell_type": "code",
   "execution_count": 15,
   "metadata": {},
   "outputs": [
    {
     "data": {
      "text/plain": [
       "numpy.ndarray"
      ]
     },
     "execution_count": 15,
     "metadata": {},
     "output_type": "execute_result"
    }
   ],
   "source": [
    "type(predictions)"
   ]
  },
  {
   "cell_type": "code",
   "execution_count": 16,
   "metadata": {},
   "outputs": [
    {
     "data": {
      "text/plain": [
       "array([['legitimate', 'spam'],\n",
       "       [3804, 1192]], dtype=object)"
      ]
     },
     "execution_count": 16,
     "metadata": {},
     "output_type": "execute_result"
    }
   ],
   "source": [
    "np.array(np.unique(predictions, return_counts = True))"
   ]
  },
  {
   "cell_type": "code",
   "execution_count": null,
   "metadata": {},
   "outputs": [],
   "source": [
    "#double checking that the test data set is indeed the same when we use the seed in the split function\n",
    "# and checking model seems to be the same"
   ]
  },
  {
   "cell_type": "code",
   "execution_count": 19,
   "metadata": {},
   "outputs": [],
   "source": [
    "features_no_drift = df_test[df_test.label == 'spam'].apply(standard_summary, axis=1).apply(pd.Series)\n",
    "features_no_drift.columns = [\"num_punct\", \"num_words\", \"av_wl\", \"max_wl\", \"min_wl\", \"10_quantile\", \"90_quantile\", \"upper_case\", \"stop_words\"]\n",
    "\n",
    "no_drift_preds = loaded_model.predict(features_no_drift.iloc[:,0:features.shape[1]])"
   ]
  },
  {
   "cell_type": "code",
   "execution_count": 21,
   "metadata": {},
   "outputs": [
    {
     "data": {
      "text/plain": [
       "array([['legitimate', 'spam'],\n",
       "       [854, 4142]], dtype=object)"
      ]
     },
     "execution_count": 21,
     "metadata": {},
     "output_type": "execute_result"
    }
   ],
   "source": [
    "np.array(np.unique(no_drift_preds, return_counts = True))"
   ]
  },
  {
   "cell_type": "code",
   "execution_count": null,
   "metadata": {},
   "outputs": [],
   "source": []
  }
 ],
 "metadata": {
  "kernelspec": {
   "display_name": "Python 3",
   "language": "python",
   "name": "python3"
  },
  "language_info": {
   "codemirror_mode": {
    "name": "ipython",
    "version": 3
   },
   "file_extension": ".py",
   "mimetype": "text/x-python",
   "name": "python",
   "nbconvert_exporter": "python",
   "pygments_lexer": "ipython3",
   "version": "3.6.8"
  }
 },
 "nbformat": 4,
 "nbformat_minor": 2
}
