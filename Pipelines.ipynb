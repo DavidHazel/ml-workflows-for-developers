{
 "cells": [
  {
   "cell_type": "code",
   "execution_count": 1,
   "metadata": {},
   "outputs": [
    {
     "name": "stdout",
     "output_type": "stream",
     "text": [
      "['legitimate' 'spam' 'legitimate' ... 'spam' 'legitimate' 'legitimate']\n",
      "0.9754\n"
     ]
    }
   ],
   "source": [
    "from sklearn.feature_extraction.text import HashingVectorizer,TfidfTransformer\n",
    "from sklearn.metrics import f1_score\n",
    "from sklearn.svm import LinearSVC\n",
    "from sklearn.pipeline import Pipeline\n",
    "import pickle, os\n",
    "\n",
    "# X_train and X_test are lists of strings, each \n",
    "# representing one document\n",
    "# y_train and y_test are vectors of labels\n",
    "\n",
    "import pandas as pd\n",
    "df = pd.read_parquet(\"data/training.parquet\")\n",
    "from sklearn import model_selection\n",
    "train, test = model_selection.train_test_split(df, random_state=43)\n",
    "X_train = train[\"text\"]\n",
    "y_train = train[\"label\"]\n",
    "\n",
    "X_test = test[\"text\"]\n",
    "y_test = test[\"label\"]\n",
    "# this calculates a vector of term frequencies for \n",
    "# each document\n",
    "vect = HashingVectorizer()\n",
    "\n",
    "# this normalizes each term frequency by the \n",
    "# number of documents having that term\n",
    "tfidf = TfidfTransformer()\n",
    "\n",
    "\n",
    "## loading model\n",
    "filename = 'models/lr_model_tfidfsummaries.sav'\n",
    "logreg = pickle.load(open(filename, 'rb'))\n",
    "\n",
    "pipeline = Pipeline([\n",
    "    ('vect',vect),\n",
    "    ('tfidf',tfidf),\n",
    "    ('logreg',logreg)\n",
    "])\n",
    "\n",
    "# call fit as you would on any classifier\n",
    "pipeline.fit(X_train,y_train)\n",
    "\n",
    "# predict test instances\n",
    "y_preds = pipeline.predict(X_test)\n",
    "print(y_preds)\n",
    "\n",
    "# calculate f1\n",
    "mean_f1 = f1_score(y_test, y_preds, average='micro')\n",
    "print(mean_f1)"
   ]
  },
  {
   "cell_type": "code",
   "execution_count": null,
   "metadata": {},
   "outputs": [],
   "source": []
  }
 ],
 "metadata": {
  "kernelspec": {
   "display_name": "Python 3",
   "language": "python",
   "name": "python3"
  },
  "language_info": {
   "codemirror_mode": {
    "name": "ipython",
    "version": 3
   },
   "file_extension": ".py",
   "mimetype": "text/x-python",
   "name": "python",
   "nbconvert_exporter": "python",
   "pygments_lexer": "ipython3",
   "version": "3.6.8"
  }
 },
 "nbformat": 4,
 "nbformat_minor": 2
}
