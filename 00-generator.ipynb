{
 "cells": [
  {
   "cell_type": "markdown",
   "metadata": {},
   "source": [
    "We'll start by using the [markovify](https://github.com/jsvine/markovify/) library to make some individual sentences in the style of Jane Austen.  These will be the basis for generating a stream of synthetic documents."
   ]
  },
  {
   "cell_type": "code",
   "execution_count": 1,
   "metadata": {},
   "outputs": [
    {
     "name": "stdout",
     "output_type": "stream",
     "text": [
      "I cannot doubt it.\n",
      "In anticipating the happiness of one of those that spare their own trouble; and Nanny shall fetch her, however it may make against his interest or pleasure.\n",
      "This, and the manner in which Miss Thorpe's name was included, passed his lips.\n",
      "She was forced to yield, and instead of Captain Benwick, she had Captain Harville by her side.\n",
      "Anne could not pay, they had only accomplished some views of St. Mark's Place, Venice, when Frank Churchill entered the room.\n",
      "How it could occur a second time, by any word, or look, or movement.\n",
      "Happily for her companion, she wanted no answer.\n",
      "Her brother told her that he could not yet recover from the emotion of hearing herself so spoken of.\n",
      "They were all very seriously frightened.\n",
      "She repeated it to you.\n"
     ]
    }
   ],
   "source": [
    "import markovify\n",
    "import codecs\n",
    "\n",
    "with codecs.open(\"data/austen.txt\", \"r\", \"cp1252\") as f:\n",
    "    text = f.read()\n",
    "\n",
    "austen_model = markovify.Text(text, retain_original=False, state_size=3)\n",
    "\n",
    "for i in range(10):\n",
    "    print(austen_model.make_short_sentence(200))"
   ]
  },
  {
   "cell_type": "markdown",
   "metadata": {},
   "source": [
    "Constructing single sentences is interesting, but we'd really rather construct larger documents. Here we'll construct a series of documents that have, on average, five sentences."
   ]
  },
  {
   "cell_type": "code",
   "execution_count": 2,
   "metadata": {},
   "outputs": [
    {
     "name": "stdout",
     "output_type": "stream",
     "text": [
      "He seems to have been. Her manners were by no means forgotten the past, and carrying her out of all proportion. Each faulty propensity in leading him to evil, had led him likewise to punishment. Soup too! The remembrance of her first attempts, as the best fitted for a beginner that either stable could furnish.\n",
      "\n",
      "###\n",
      "\n",
      "In a few moments every one was silent. Poor soul! To spare Henrietta from agitation seemed the governing principle. On the contrary, there is something much more pleasing in his countenance. He is blinded, and nothing will open his eyes; nothing can, after having had truths before him so long in company with her than ever by absence, unhappiness, and danger. Did she love him well enough to follow his friends, as he had the means of uniting them. To the Great House family, which was generally, as Anne very well knew, the least to blame. He looked as if he had not heard his carriage announced, and was first called to the card-table by the conclusion of your letter declares your expectations of. But Henry was too much wind to make the rest of the day, which only made such cruel sights the longer visible.\n",
      "\n",
      "###\n",
      "\n",
      "As that was the word. A saunter into other meadows, and through part of the room from where the two ladies retired to dress, and at half-past six Elizabeth was summoned to dinner. It was the greatest misery of all. I live in the hope of being at any time by his family, though quite as much as ever in the general amount of the whole was, that if the woman who married him cannot have a proper way of thinking. She had heard repeatedly from his sister within the three weeks which had passed twenty years before, be minutely repeated. It was next to be sung. It was the greatest stretch of forbearance I could practise.\n",
      "\n",
      "###\n",
      "\n",
      "We must not expect to influence the passions of another. But that she must meditate an application to a parent. Call it gossip, if you will, but when Nurse Rooke has half an hour's notice, whenever she were weary of the place.\n",
      "\n",
      "###\n",
      "\n",
      "Short of that, it is all very true, and a great deal too late. Where a man does on an estate, both as to the how much. Mr. John Knightley must be in my power to inform the surrounding Families, that as their happiness centered wholly in themselves, they wished for no more.\n",
      "\n",
      "###\n",
      "\n",
      "I would give anything to know the name of its proprietor? and, with no little alarm, whether the family were again all restored to each other, Miss Tilney expressing a proper sense of such feelings. Before Sir Walter had once been in company with him, I need not particularise. It was with pain that Catherine could speak at all; and it is the more to her own child, should be attached to you, and seeking your hand in the most distant clump. How could Mr. Crawford say such a thing? She had, however, one very intimate friend, a sensible, deserving woman, who had been trembling for the dangers of a solitary drive from Vicarage Lane--turning a corner which he could not go. The difference between his present air and what it had been vanquished at last by Colonel Brandon to this act, were strongly felt, and warmly expressed.\n",
      "\n",
      "###\n",
      "\n",
      "So much was pretty soon understood; but till Sir Walter and Miss Elliot, whose entrance seemed to give fresh pleasure to the present plan, were to go so far, but it cannot be, indeed. But there were other evils before her. Five thousand pounds was the most distinct.\n",
      "\n",
      "###\n",
      "\n",
      "Will not it be our Mr Elliot? He was looking about, he was going on as well as every body else it must be attributed; and as such its impression on her fancy was not suffered therefore to weaken. RICHARD the 3rd The Character of this Prince has been in general very plain, and Catherine, for many years had had the ill fortune of a wife, the mistress of a family, and the patroness of a village. It is an attachment to Mr. Dixon, which she had yet another reason for urging this: Mainwaring came to town for one of them. My Father does not return to us till Autumn; my Brother will leave Scotland in a few short sentences. Elinor kept her concern and surprise, began to inquire into Miss Thorpe's connections and fortune. No, no--feel he may defy us there.\n",
      "\n",
      "###\n",
      "\n",
      "She was remarkably quick in the discovery of attachments, and had enjoyed the advantage of good weather, they received an impression in my disfavour; in this light, condescension was necessary. Their two confidential friends, Mr Shepherd, who had returned, after a short participation of their regrets and difficulties, left them and walked on. Yes, I suppose he means to do I am sure Edward Ferrars is not well.\n",
      "\n",
      "###\n",
      "\n",
      "His surprise was not so much to do as, in addition to her own family connections among the nobility of England and Ireland! In a softened tone she declared herself not tired, and they stood together on the lawn. It would have been sufficient. With all my soul his wife may teach him. How Fanny listened, with what curiosity and concern, what pain and what delight, how the agitation of meeting Mr. Darcy, while viewing the place, instantly occurred. Alas! it was all connected, desired me, whenever I had an opportunity, to thank you--I could not thank you too much--for every wish and every endeavour to soften it. Mrs. Bennet, through the assistance of her conscience in subduing her first inclination, and brought them very often together. I could very ill be spared--but such a point could not be useful, and not to give any news of him. And Edmund, silenced, was obliged to be in time, she did not know how to bear it. But unfortunately my own nicety, and the nicety of my friends, and was thought to have a letter despatched to Mansfield.\n",
      "\n",
      "###\n",
      "\n"
     ]
    }
   ],
   "source": [
    "from scipy.stats import poisson\n",
    "\n",
    "for sentences in poisson.rvs(5, size=10):\n",
    "    print(\" \".join([austen_model.make_short_sentence(200) for _ in range(sentences + 1)]))\n",
    "    print(\"\\n###\\n\")"
   ]
  },
  {
   "cell_type": "markdown",
   "metadata": {},
   "source": [
    "We'll use spaCy to identify entities (mostly proper nouns and noun phrases) in these synthetic status updates and turn them into hashtags:"
   ]
  },
  {
   "cell_type": "code",
   "execution_count": 3,
   "metadata": {},
   "outputs": [
    {
     "name": "stdout",
     "output_type": "stream",
     "text": [
      "In half a minute of starting the idea that we have all such reason to love, and such love must unite them.\n",
      "In #halfaminute of starting the idea that we have all such reason to love, and such love must unite them.\n",
      "_Courtship_--a very good hint.\n",
      "_Courtship_--a very good hint.\n",
      "Nature resisted it for a play, and with you.\n",
      "Nature resisted it for a play, and with you.\n",
      "She need not have been decided quite so soon.\n",
      "She need not have been decided quite so soon.\n",
      "The former was for Sir John's gratification, the latter for that of his regret at having believed the contrary himself.\n",
      "The former was for Sir #John's gratification, the latter for that of his regret at having believed the contrary himself.\n"
     ]
    }
   ],
   "source": [
    "import spacy\n",
    "nlp = spacy.load('en')\n",
    "\n",
    "def make_sentence(model, length=200):\n",
    "    return model.make_short_sentence(length)\n",
    "    \n",
    "def hashtagify_full(sentence):\n",
    "    doc = nlp(sentence)\n",
    "    for ent in doc.ents:\n",
    "        sentence = sentence.replace(str(ent), \"#%s\" % str(ent).replace(\" \", \"\"))\n",
    "    return (sentence, [\"#%s\" % str(ent).replace(\" \", \"\") for ent in doc.ents])\n",
    "\n",
    "def hashtagify(sentence):\n",
    "    result,_ = hashtagify_full(sentence)\n",
    "    return result\n",
    "\n",
    "for i in range(5):\n",
    "    sentence = make_sentence(austen_model)\n",
    "    print(sentence)\n",
    "    print(hashtagify(sentence))"
   ]
  },
  {
   "cell_type": "markdown",
   "metadata": {},
   "source": [
    "We'll now train two Markov models on positive and negative product reviews (taken from the [public-domain Amazon fine foods reviews dataset on Kaggle](https://www.kaggle.com/snap/amazon-fine-food-reviews/)).  We'll incorporate the results of these models into our synthetic social media stream."
   ]
  },
  {
   "cell_type": "code",
   "execution_count": 4,
   "metadata": {},
   "outputs": [],
   "source": [
    "import gzip\n",
    "\n",
    "def train_markov_gz(fn):\n",
    "    \"\"\" trains a Markov model on gzipped text data \"\"\"\n",
    "    with gzip.open(fn, \"rt\", encoding=\"utf-8\") as f:\n",
    "        text = f.read()\n",
    "    return markovify.Text(text, retain_original=False, state_size=3)\n",
    "\n",
    "negative_model = train_markov_gz(\"data/reviews-1.txt.gz\")\n",
    "positive_model = train_markov_gz(\"data/reviews-5-100k.txt.gz\")"
   ]
  },
  {
   "cell_type": "code",
   "execution_count": 5,
   "metadata": {},
   "outputs": [
    {
     "data": {
      "text/plain": [
       "'From the 16 year old cat in to the trash.'"
      ]
     },
     "execution_count": 5,
     "metadata": {},
     "output_type": "execute_result"
    }
   ],
   "source": [
    "make_sentence(negative_model)"
   ]
  },
  {
   "cell_type": "code",
   "execution_count": 6,
   "metadata": {},
   "outputs": [
    {
     "data": {
      "text/plain": [
       "'I wish more similar products existed.'"
      ]
     },
     "execution_count": 6,
     "metadata": {},
     "output_type": "execute_result"
    }
   ],
   "source": [
    "make_sentence(positive_model)"
   ]
  },
  {
   "cell_type": "markdown",
   "metadata": {},
   "source": [
    "We can combine these models with relative weights, but this yields somewhat unusual results:"
   ]
  },
  {
   "cell_type": "code",
   "execution_count": 7,
   "metadata": {},
   "outputs": [],
   "source": [
    "compound_model = markovify.combine([austen_model, negative_model, positive_model], [14, 3, 3])"
   ]
  },
  {
   "cell_type": "code",
   "execution_count": 8,
   "metadata": {},
   "outputs": [
    {
     "name": "stdout",
     "output_type": "stream",
     "text": [
      "So, with the creamy, smooth texture and good flavor.\n",
      "Just not worth $#25.00 a pound no matter where they are, if they think people won't notice?\n",
      "Just be careful the ##first couple times I made tea with it, it popped the same as my ##first order #1.2 oz- #6 pack.\n",
      "Within a very short amount of time.\n",
      "Your mother insists upon your accepting it.\n",
      "It is sweet, but not as rich as we would like them being in #3 separate packages allows me to eat at #night.\n",
      "So if your wanting #theJamaicaGinger dont waist your time The expiration date is #September so it should be renamed.\n",
      "When or little girl #Kimberly12yearsold and they went bad before he finished them.\n",
      "A friend brought me down a box of other randoms she no longer experiences constipation.\n",
      "These are reasonably priced and arrived in good shape.\n",
      "Shame on me for not showing it to him though... he tried to be all out of my small backyard operation.\n",
      "And unlike many snacks, after you eat them.\n",
      "I should check the meaning of this?\n",
      "After these came a #second set; among the most difficult character in the opinion of the newcomers?\n",
      "Nothing should separate her from her family.\n",
      "I was perplexed at #first, but once you put these into hot water or over boil, it will melt in his mouth and he sucks it down like it were water.\n",
      "After trying #two flavours, I certainly would rather it had not been sealed correctly and that they are getting away with selling a #dozenorso brands of olive oil until the onion is tender.\n",
      "They must be that the valerian has a lasting effect.\n",
      "Not unfrequently, through #Emma's persuasion, he had some chocolate covered soy nuts on his trail mix and in #lessthanhalf and now he is taking the same liberty with you.\n",
      "And so saying, he turned back with them, and loving them.\n"
     ]
    }
   ],
   "source": [
    "for i in range(20):\n",
    "    print(hashtagify(make_sentence(compound_model)))"
   ]
  },
  {
   "cell_type": "markdown",
   "metadata": {},
   "source": [
    "As is more or less the case in the real world, we'll assume that a small percentage of users are responsible for the bulk of social media activity, and that the bulk of users are responsible for relatively few posts.  We'll model this with a table of random user IDs that has a collection of relatively few talkative users and relatively many moderate users; the proportion of utterances from talkative users to utterances from moderate users is the inverse of the proportion of talkative users to moderate users."
   ]
  },
  {
   "cell_type": "code",
   "execution_count": 9,
   "metadata": {},
   "outputs": [],
   "source": [
    "import numpy\n",
    "import math\n",
    "import collections\n",
    "\n",
    "class UserTable(object):\n",
    "    def __init__(self, size, weights=[8, 2]):\n",
    "        self._talkative = collections.deque()\n",
    "        self._moderate = collections.deque()\n",
    "        self._size = size\n",
    "        self._cutoff = float(weights[0]) / sum(weights)\n",
    "        \n",
    "        for i in range(size):\n",
    "            new_uid = math.floor(numpy.random.uniform(10 ** 10))\n",
    "            if numpy.random.uniform() >= self._cutoff:\n",
    "                self._moderate.append(new_uid)\n",
    "            else:\n",
    "                self._talkative.append(new_uid)\n",
    "    \n",
    "    def random_uid(self):\n",
    "        def choose_from(c):\n",
    "            return c[math.floor(numpy.random.uniform() * len(c))]\n",
    "        \n",
    "        if numpy.random.uniform() >= self._cutoff:\n",
    "            return choose_from(self._talkative)\n",
    "        else:\n",
    "            return choose_from(self._moderate)\n",
    "        "
   ]
  },
  {
   "cell_type": "code",
   "execution_count": 10,
   "metadata": {},
   "outputs": [],
   "source": [
    "import seaborn"
   ]
  },
  {
   "cell_type": "markdown",
   "metadata": {},
   "source": [
    "We can see the number of times each user ID appears if we ask the `UserTable` for 1000 random user IDs:"
   ]
  },
  {
   "cell_type": "code",
   "execution_count": 11,
   "metadata": {},
   "outputs": [
    {
     "data": {
      "text/plain": [
       "<matplotlib.axes._subplots.AxesSubplot at 0x1aa9426ba8>"
      ]
     },
     "execution_count": 11,
     "metadata": {},
     "output_type": "execute_result"
    },
    {
     "data": {
      "image/png": "[encoded data removed]",
      "text/plain": [
       "<Figure size 432x288 with 1 Axes>"
      ]
     },
     "metadata": {},
     "output_type": "display_data"
    }
   ],
   "source": [
    "ut = UserTable(100)\n",
    "uids = [ut.random_uid() for i in range(1000)]\n",
    "seaborn.countplot(uids)"
   ]
  },
  {
   "cell_type": "code",
   "execution_count": 12,
   "metadata": {},
   "outputs": [],
   "source": [
    "def generate_tweets(models, weights=None, hashtag_weights=[8, 2], ut=None, seed_hashtags=[]):\n",
    "    if weights is None:\n",
    "        weights = [1] * len(models)\n",
    "    \n",
    "    if ut is None:\n",
    "        ut = UserTable(10000)\n",
    "    \n",
    "    choices = []\n",
    "    \n",
    "    total_weight = float(sum(weights))\n",
    "    \n",
    "    for i in range(len(weights)):\n",
    "        choices.append((float(sum(weights[0:i+1])) / total_weight, models[i]))\n",
    "    \n",
    "    def choose_model():\n",
    "        r = numpy.random.uniform()\n",
    "        for (p, m) in choices:\n",
    "            if r <= p:\n",
    "                return m\n",
    "        return choices[-1][1]\n",
    "    \n",
    "    seen_hashtags = set()\n",
    "    hashtags = []\n",
    "    total_hashtag_weight = float(sum(hashtag_weights))\n",
    "    for i in range(len(hashtag_weights)): \n",
    "        hashtags.append((float(sum(hashtag_weights[0:i+1])) / total_hashtag_weight, collections.deque()))\n",
    "    \n",
    "    iws = [1.0 - w for (w, _) in hashtags]\n",
    "    inverse_weights = [(sum(iws[0:i+1]), i) for _, i in zip(iws, range(len(iws)))]    \n",
    "\n",
    "    def choose_from(c):\n",
    "        idx = math.floor(numpy.random.uniform() * len(c))\n",
    "        return c[idx]\n",
    "    \n",
    "    def store_hashtag(tag):\n",
    "        if tag not in seen_hashtags:\n",
    "            seen_hashtags.add(str(tag))\n",
    "            r = numpy.random.uniform()\n",
    "            for(p, deq) in hashtags:\n",
    "                if r <= p:\n",
    "                    deq.append(tag)\n",
    "    \n",
    "    def choose_hashtag():\n",
    "        r = numpy.random.uniform()\n",
    "        for(p, i) in hashtags:\n",
    "            if r <= - p and len(hashtags[i][1]) > 0:\n",
    "                return choose_from(hashtags[i][1])\n",
    "        return len(hashtags[0][1]) > 0 and choose_from(hashtags[0][1]) or choose_from(hashtags[1][1])\n",
    "    \n",
    "    for tag in seed_hashtags:\n",
    "        seen_hashtags.add(str(tag))\n",
    "        hashtags[-1][1].append(str(tag))\n",
    "    \n",
    "    while True:\n",
    "        tweet, tags = hashtagify_full(make_sentence(choose_model()))\n",
    "        for tag in tags:\n",
    "            store_hashtag(str(tag))\n",
    "        \n",
    "        this_tweet_tags = set([str(t) for t in tags])\n",
    "        \n",
    "        if len(seen_hashtags) > 0:\n",
    "            for i in range(min(numpy.random.poisson(3), len(seen_hashtags))):\n",
    "                tag = choose_hashtag()\n",
    "                if str(tag) not in this_tweet_tags:\n",
    "                    this_tweet_tags.add(str(tag))\n",
    "                    tweet += \" %s\" % str(tag)\n",
    "            \n",
    "        yield (ut.random_uid(), tweet)"
   ]
  },
  {
   "cell_type": "code",
   "execution_count": 13,
   "metadata": {},
   "outputs": [],
   "source": [
    "seed_hashtags=[\"#ff\", \"#marketing\", \"#fail\", \"#followfriday\", \"#yolo\", \"#retweet\", \"#tbt\", \"#socialmedia\", \"#startup\", \"#blogpost\", \"#news\", \"#health\"]\n",
    "\n",
    "t = generate_tweets([austen_model, positive_model, negative_model, compound_model], [22, 4, 4, 2], seed_hashtags=seed_hashtags)"
   ]
  },
  {
   "cell_type": "code",
   "execution_count": 14,
   "metadata": {},
   "outputs": [
    {
     "data": {
      "text/plain": [
       "<generator object generate_tweets at 0x1aa941d678>"
      ]
     },
     "execution_count": 14,
     "metadata": {},
     "output_type": "execute_result"
    }
   ],
   "source": [
    "t"
   ]
  },
  {
   "cell_type": "code",
   "execution_count": 15,
   "metadata": {
    "scrolled": true
   },
   "outputs": [
    {
     "data": {
      "text/plain": [
       "[(4147830156, 'Sir #Thomas was at hand.'),\n",
       " (8638342915,\n",
       "  'She was vexed beyond what could have been expressed--almost beyond what she knew to be thoroughly deserved by Mrs. #Weston; but, undoubtedly he could know very little of #LadyCatherine or her daughter. #Thomas'),\n",
       " (1493139267,\n",
       "  \"It didn't taste like wax, they might taste like this. #Thomas #LadyCatherine\"),\n",
       " (9425213566,\n",
       "  'They arrived in due time at the place of destination, and as soon as possible after themselves, for the purpose than that which yet bore the traces of monastic division? #LadyCatherine'),\n",
       " (1036796332,\n",
       "  'This product is expensive for this use - honey is cheaper and ##Amazon offers the best deal on ##Amazon. #Thomas #LadyCatherine'),\n",
       " (3407465369,\n",
       "  '#Elizabeth, at work in the garden or in reading and writing, and looking out of the room. #Thomas'),\n",
       " (1723739557, 'I am tired of doing nothing. #Thomas #Elizabeth'),\n",
       " (5079931871, 'The place was suited to meditation. #Elizabeth #LadyCatherine'),\n",
       " (631488302,\n",
       "  'He was more engaged with #Louisa than with Henrietta. #Elizabeth #Thomas #Amazon'),\n",
       " (1049700762,\n",
       "  '#Jane recollected herself soon, and putting the letter away, tried to join in with the inclination of Mr. #Woodhouse, who had previously beat Sir #WilliamGascoigne. #Amazon'),\n",
       " (901756371,\n",
       "  'They are tasty and low in calories. #Jane #Woodhouse #WilliamGascoigne'),\n",
       " (5407138821,\n",
       "  'Blessed with so many to care for, how was it possible for even _her_ activity to keep pace with her wishes? #Elizabeth #Amazon #Woodhouse'),\n",
       " (2311115389,\n",
       "  'For her own sake she could not help repeating to him some part of this work be altogether to recommend parental tyranny, or reward filial disobedience. #Woodhouse #Louisa'),\n",
       " (6195452079,\n",
       "  'It turned out way too sweet rather then mild and salty like the old version. #WilliamGascoigne #Woodhouse'),\n",
       " (8113283326,\n",
       "  'Anne heard nothing distinctly; it was only in his presence so as to command a full view of the #two or #three others laying by her. #Woodhouse'),\n",
       " (7815709114,\n",
       "  'Has #Perry seen her? #WilliamGascoigne #three #Elizabeth #Jane'),\n",
       " (7780327465,\n",
       "  'I tried to find a cheaper cider. #Amazon #Louisa #WilliamGascoigne #LadyCatherine #two'),\n",
       " (9160284826,\n",
       "  'We brought a cold Pigeon pye, a cold turkey, a cold tongue, and #halfadozen indeed; but they should be all kept for #Jane; and I could hardly keep my seat. #Elizabeth #LadyCatherine #three #Woodhouse'),\n",
       " (9757746354, 'Thus I did all in my power. #Amazon #Elizabeth #Woodhouse'),\n",
       " (3511746350,\n",
       "  'Finis #June13th1790. #LadyCatherine #Perry #WilliamGascoigne #Louisa #Thomas'),\n",
       " (8728885537,\n",
       "  'Idiots win These granola bars are not very good at all. #Jane #Thomas'),\n",
       " (4626912250,\n",
       "  'It was designed only to express his admiration. #halfadozen #Woodhouse #Jane #WilliamGascoigne #Elizabeth'),\n",
       " (9947581226,\n",
       "  'She was soon undressed and in bed, and as she instantly and with averted eyes walked towards the Lucases, because #Kitty wished to call upon her soon. #two #Jane'),\n",
       " (8870832064,\n",
       "  'Used to get them from a grocery store and see one of the few breakfast bars that actually fill me up have good fiber and protein. #WilliamGascoigne #Elizabeth #Perry'),\n",
       " (483635029, \"It's wonderful. #Perry\"),\n",
       " (9857122791,\n",
       "  'They were wretched together. #Thomas #three #LadyCatherine #WilliamGascoigne #Perry'),\n",
       " (9314011084, 'She could not endure it. #three #halfadozen #Thomas'),\n",
       " (9327412388, 'She always wanted food. #Thomas #Perry #Kitty'),\n",
       " (6224147775,\n",
       "  'She saw that the suspicions of #thisveryday; she could have been happy with him, I need not tell me anything now, which hereafter you may be very good #Neighbours. #three #Elizabeth #Amazon #Thomas #Jane #halfadozen'),\n",
       " (3387807749,\n",
       "  'There was novelty in the scheme, and the last that must be inevitably reminding him of its existence.'),\n",
       " (7372494803,\n",
       "  'Jane was beyond competition her favourite child. #Jane #Kitty #two #Thomas #Amazon'),\n",
       " (2443068093, 'I have a full flavor. #three #Louisa #Perry #LadyCatherine'),\n",
       " (4896323827, 'She has a wonderful play of feature!'),\n",
       " (7928883322,\n",
       "  'Many premixed dressings are preferrable. #WilliamGascoigne #Louisa #two'),\n",
       " (6004451280, 'I am only ready whenever you are. #two #Thomas #Perry #Kitty'),\n",
       " (7711524664,\n",
       "  'Sackville St: #Janry7th It is a family in that neighbourhood who are such an annoyance to my brother and sister deceived! #Jane #thisveryday #Elizabeth #LadyCatherine #two'),\n",
       " (641920423,\n",
       "  'She would have liked to have any design of giving money away. #Woodhouse #Janry7th #Kitty #Louisa #Jane'),\n",
       " (5024098806, 'Maybe I can use ground coffee. #WilliamGascoigne #two'),\n",
       " (1611446759,\n",
       "  'They are easy and you get more garbage than sardine. #halfadozen #Woodhouse #Louisa'),\n",
       " (8049558771,\n",
       "  'The situation of affairs in #themonthofJuly; and #Fanny had time for #onlyoneday, and #BoxHill for the next,--the weather appearing exactly right. #Elizabeth #Woodhouse #Janry7th'),\n",
       " (8305051463, 'But I think we do so well without him. #Jane'),\n",
       " (5880842744,\n",
       "  'When we came back from the Parsonage successful; and Edmund made his appearance among them. #LadyCatherine #onlyoneday #Louisa #Janry7th'),\n",
       " (675996553,\n",
       "  'Mary was in excellent spirits, and #Isabella most engagingly placid. #Fanny #Perry #Louisa'),\n",
       " (6954805969,\n",
       "  'The persons to be invited, required little thought. #themonthofJuly #Kitty #Janry7th'),\n",
       " (2101641039, 'You will love it! #Amazon #Woodhouse #onlyoneday #Perry'),\n",
       " (9394915747, 'He could not meet with a better. #thisveryday #Jane'),\n",
       " (1503403658,\n",
       "  'Cans dented on the INSIDE row, it appears that they are either expired or stored improperly. #Kitty #WilliamGascoigne #Perry #Fanny'),\n",
       " (4299542616, 'We were just in time; my mother just ready for us. #Thomas'),\n",
       " (6956559466,\n",
       "  'I know Mr. #JohnKnightley did not make _her_ cheerful; she wondered that Edmund should be making himself useful, and proving his good-nature by any one?'),\n",
       " (3265818577,\n",
       "  'I know very well that Mr. #Darcy would consider his addressing him without introduction as an impertinent freedom, rather than a diminution of cares since her treading that path before. #Kitty'),\n",
       " (1059901979,\n",
       "  'Again I demand an explanation of what #Lydia had let fall; #Elizabeth was glad to sit down; but his embarrassment still exceeded that of the ladies in blue satin have seen what was going on. #thisveryday #themonthofJuly #Louisa'),\n",
       " (6021157861,\n",
       "  'Nothing, but to grow more worthy of him. #Louisa #Amazon #Lydia #Thomas #Elizabeth'),\n",
       " (4869016544,\n",
       "  'You are happy at #Portsmouth, I hope, but this must not be applied to, to explain #Italian again.'),\n",
       " (7674724866,\n",
       "  'The Duck Jerky you get from them all have a label showing LOT 0273. #WilliamGascoigne #Amazon'),\n",
       " (3833092573,\n",
       "  'At such a moment was driven from the door, she saw #Marianne in spirits, she could not help making an effort to enter the house again, and returning through the well-known apartments. #LadyCatherine #themonthofJuly'),\n",
       " (2218992869,\n",
       "  'It was, on the contrary, that he has better means of having it always at #Hand. #Kitty #onlyoneday #Italian'),\n",
       " (2345670602,\n",
       "  '#Jane ran to her bowl everynight at dinner time. #Woodhouse #Marianne #JohnKnightley #BoxHill'),\n",
       " (4133875863,\n",
       "  \"As to his going, it was decided that the gentlemen advanced in the good opinion of himself, of his daughter's disposition that was most unlike #AnneElliot! #Janry7th #Marianne #WilliamGascoigne #JohnKnightley #two\"),\n",
       " (1063590933, 'At this moment I make no difficulties. #Marianne'),\n",
       " (2378858688,\n",
       "  \"I guess if you're sensitive to vinegar-y tastes, this may not be for everyone this is the bar where #Bellini's were invented so we had never tried these. #Jane #AnneElliot\"),\n",
       " (5185698065,\n",
       "  'Of her #two sisters, Mrs. #Price very much more resembled #LadyBertram than Mrs. #Norris. #onlyoneday #Italian'),\n",
       " (1388741558,\n",
       "  'When she came to the point, was not contemptible: Sir #Thomas being happily able to give it you than I am. #LadyCatherine'),\n",
       " (268059059,\n",
       "  '#Follies and nonsense, whims and inconsistencies, _do_ divert me, I own, and I laugh at them whenever I can. #Jane'),\n",
       " (8661270287, 'So much for saving money by purchasing in bulk. #Lydia'),\n",
       " (5863851701, 'Very unfeeling! #Norris #Louisa #WilliamGascoigne #Italian'),\n",
       " (4763611895,\n",
       "  'This formula caused my baby to formula, but it has been in the interior of a family, and the Souper Size Dura #ChewBone is part of the fruit. #Kitty #Follies #Fanny #halfadozen'),\n",
       " (6769460992,\n",
       "  'What had #Edward felt on being within #fourmiles from #MapleGrove.'),\n",
       " (2645320251,\n",
       "  'Why they need to track this for the #DHA thinking it would be quite expensive for the taste. #themonthofJuly #Bellini #halfadozen #MapleGrove #BoxHill'),\n",
       " (3935376333,\n",
       "  'There seems to me to dine there to-#morrow. #themonthofJuly #Bellini'),\n",
       " (2925869429,\n",
       "  'This letter, however, was written, and sealed, and sent. #JohnKnightley #three #Italian'),\n",
       " (8552642371,\n",
       "  \"I've had cats for #overtwentyyears, and have used many #Equal-substitutes in the past, but never as violently as this.It's disturbing that they would send me this unappetizing and unhealthy product. #Woodhouse #Jane #DHA\"),\n",
       " (6517534008,\n",
       "  'He had a great deal of its beauty; from Mr. #Dixon, I mean--I do not know it I dare say, would take their chance. #AnneElliot #fourmiles'),\n",
       " (2396758648,\n",
       "  'The land was so very cheerful in his civilities indeed, that she began to think you would never come. #Lydia'),\n",
       " (5605862203,\n",
       "  'I have loved none but you. #thisveryday #Amazon #morrow #AnneElliot #Bellini'),\n",
       " (7691429473, 'I met her frequently at #Weymouth. #Janry7th #Jane'),\n",
       " (2059930611,\n",
       "  'Her fancy was very active. #JohnKnightley #Perry #Kitty #Norris #Lydia'),\n",
       " (6970655311, 'Poor thing! #Lydia #BoxHill'),\n",
       " (64779815,\n",
       "  'Mr. #Knightley soon saw that her waiting-woman was in it. #BoxHill #Woodhouse #Weymouth #themonthofJuly #Amazon #onlyoneday'),\n",
       " (9737149024,\n",
       "  'I have curly hair; like seriously curly hair. #Italian #Jane #themonthofJuly'),\n",
       " (7458454209,\n",
       "  \"Coach's Oats are every bit as special as any baked good. #Norris\"),\n",
       " (4964796647,\n",
       "  'She knew, that when he next entered #Highbury he would bring his passion to an early proof. #Italian'),\n",
       " (131251666,\n",
       "  'How could she have foreseen that as she died without children, she would be glad of a little bustle in the room again; and though no one can really deserve you, my dearest Mother! #MapleGrove #Janry7th #themonthofJuly #Louisa'),\n",
       " (8138849497,\n",
       "  'How can Emma imagine she has any thing to the purpose. #thisveryday #WilliamGascoigne'),\n",
       " (1736131776,\n",
       "  'He is blinded, and nothing will open his eyes; nothing can, after having had truths before him so long in vain. #Louisa #LadyCatherine #two #Janry7th'),\n",
       " (1993585682,\n",
       "  'Costs a couple bucks cheaper, including shipping charges, directly from the brewer on their site to report the problem and wanted a grab-n-go snack. #Bellini #Norris #halfadozen'),\n",
       " (2440486613,\n",
       "  \"She had high animal spirits, and a sort of sauciness and familiarity which I shall enclose to you, as I talked of #t'otherday. #DHA #three #thisveryday\"),\n",
       " (9740917156, 'Excuse me, #MissDashwood.'),\n",
       " (440453314,\n",
       "  'They took a slight survey of all; and #Catherine was quite delighted with her. #Edward #Fanny #Weymouth'),\n",
       " (1853516009, 'You are very kind to the little boys. #Janry7th'),\n",
       " (9559189569,\n",
       "  'How Charles could take such a liberty as to trouble you with my affairs. #LadyBertram #Edward #morrow'),\n",
       " (523592943,\n",
       "  'It came happily while she was gone, the #two young men were the only talkers, but they, standing by the fire, was to be next admired, and he led the way to #Longbourn. #Norris #Lydia'),\n",
       " (3541071114, '_She_ should be justified. #Janry7th #themonthofJuly'),\n",
       " (1616527081,\n",
       "  \"Although I boiled it in water for a few moments and after eating #BLUE, it's cleared up. #Louisa\"),\n",
       " (5570127399,\n",
       "  'She was guilty only of being less rich than he had foreseen, had been useful and good to her sister; and, in short, as soon as the door was thrown open and their visitor entered. #Kitty #two #Highbury'),\n",
       " (4323574805,\n",
       "  'Of what he had thrown away. #Highbury #thisveryday #Marianne #Catherine'),\n",
       " (2229207541,\n",
       "  'I also have tried #theMoroccanMint is THE best peanut butter I have eaten. #Dixon #LadyCatherine'),\n",
       " (1162730269,\n",
       "  'I see walls of great promise. #Kitty #WilliamGascoigne #Edward #Lydia'),\n",
       " (5714404687, '#Holla, you there!'),\n",
       " (2139567790,\n",
       "  '#XII SIR #REGINALD#DE COURCY #XIII LADY #DE COURCY Churchhill My dear Mother,--I am very sorry for any delay. #halfadozen #Highbury #Elizabeth'),\n",
       " (5617254651,\n",
       "  'After completing the entire cleaning process #two more times using alternate techniques. #overtwentyyears #Woodhouse')]"
      ]
     },
     "execution_count": 15,
     "metadata": {},
     "output_type": "execute_result"
    }
   ],
   "source": [
    "[next(t) for i in range(100)]"
   ]
  },
  {
   "cell_type": "code",
   "execution_count": null,
   "metadata": {},
   "outputs": [],
   "source": [
    "import cProfile\n",
    "\n",
    "def timing(c):\n",
    "    for _ in range(c):\n",
    "        next(t)\n",
    "\n",
    "cProfile.run('timing(2000)', 'generatestats')"
   ]
  },
  {
   "cell_type": "code",
   "execution_count": null,
   "metadata": {},
   "outputs": [],
   "source": [
    "import pstats\n",
    "p = pstats.Stats('generatestats')\n",
    "p.strip_dirs().sort_stats(-1).print_stats()"
   ]
  },
  {
   "cell_type": "code",
   "execution_count": null,
   "metadata": {},
   "outputs": [],
   "source": []
  }
 ],
 "metadata": {
  "kernelspec": {
   "display_name": "Python 3.6",
   "language": "python",
   "name": "jupyter"
  },
  "language_info": {
   "codemirror_mode": {
    "name": "ipython",
    "version": 3
   },
   "file_extension": ".py",
   "mimetype": "text/x-python",
   "name": "python",
   "nbconvert_exporter": "python",
   "pygments_lexer": "ipython3",
   "version": "3.6.5"
  }
 },
 "nbformat": 4,
 "nbformat_minor": 2
}
