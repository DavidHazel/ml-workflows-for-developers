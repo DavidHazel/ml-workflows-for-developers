{
 "cells": [
  {
   "cell_type": "markdown",
   "metadata": {},
   "source": [
    "We'll start by using the [markovify](https://github.com/jsvine/markovify/) library to make some individual sentences in the style of Jane Austen.  These will be the basis for generating a stream of synthetic documents."
   ]
  },
  {
   "cell_type": "code",
   "execution_count": 1,
   "metadata": {},
   "outputs": [
    {
     "name": "stdout",
     "output_type": "stream",
     "text": [
      "Such and such-like were the reasonings of Sir Thomas, and in smaller concerns by her sister.\n",
      "I began to think my caro sposo would be absolutely jealous.\n",
      "The introduction, however, was immediately made; and she had been last together; much less could her feelings acquit her of having made Harriet unhappy.\n",
      "Mr. Bennet and his daughters saw all the impropriety of her father's comfort, perhaps even of his life, and you know young people like to be married to a Miss Hawkins.\n",
      "She could not have believed them.\n",
      "She was less handsome than her brother; but she could not be a doubt of your secrecy.\n",
      "I speak feelingly.\n",
      "She looked about her with due consideration, and found almost everything in his favour, should think highly of himself.\n",
      "Well, she went on to say something sensible, but knew not what answer she returned to the Park, and Elinor was not blinded by the beauty, or the shrewd look of the youngest, to her want of sense.\n",
      "The wish was rather eager than lasting.\n"
     ]
    }
   ],
   "source": [
    "import markovify\n",
    "import codecs\n",
    "import random\n",
    "\n",
    "# Markovify uses a single random generator -- notebooks using it will thus \n",
    "# only be reproducible if you set a random seed before each cell using markovify\n",
    "random.seed(0xbaff1ed)\n",
    "\n",
    "with codecs.open(\"data/austen.txt\", \"r\", \"cp1252\") as f:\n",
    "    text = f.read()\n",
    "\n",
    "austen_model = markovify.Text(text, retain_original=False, state_size=3)\n",
    "\n",
    "for i in range(10):\n",
    "    print(austen_model.make_short_sentence(200))"
   ]
  },
  {
   "cell_type": "markdown",
   "metadata": {},
   "source": [
    "Constructing single sentences is interesting, but we'd really rather construct larger documents. Here we'll construct a series of documents that have, on average, five sentences."
   ]
  },
  {
   "cell_type": "code",
   "execution_count": 2,
   "metadata": {
    "scrolled": false
   },
   "outputs": [
    {
     "name": "stdout",
     "output_type": "stream",
     "text": [
      "We cannot have two Agathas, and we must have one Cottager's wife; and I am afraid you will be so well off. JOHNSON TO LADY S. VERNON Edward Street. We were all alive.\n",
      "\n",
      "###\n",
      "\n",
      "And we agreed it would be delightful. By one measure I might have written home. I am not sorry for, as I know you have the art of pleasing--the art of pleasing, at least, at Kellynch Hall; and who had opportunities of seeing me. By this time, the subject was equally convinced that it is sometimes carried a little too nice. Jane was not happy. Mr Elliot had made a change indeed! It was only necessary to mention any favourite amusement to engage her to talk.\n",
      "\n",
      "###\n",
      "\n",
      "He shook his head. I see it in her eyes, seemed all that he wished. A very proper compliment!--and then follows the application, which I think, my dear Harriet, you cannot find much difficulty in comprehending. Here Fanny, who had hoped to see. The necessity of the measure in a pecuniary light, and the hope of her being well principled and religious.\n",
      "\n",
      "###\n",
      "\n",
      "Anne was considering whether she should take leave or not just then, and how, to a very different man from what he is doing? You paint too accurately for mistake. Bless me! what was his name? She was not obliged to hear. Their conversations, however, were not spared. She mentioned nothing of what had happened; it was impossible for her to have more leisure for them.\n",
      "\n",
      "###\n",
      "\n",
      "Mr. Darcy sends you all the duty of a child. She did not want to go. Our own library is too well known to require definition; and I was very much pleased with what I have done.\n",
      "\n",
      "###\n",
      "\n",
      "While she treated it as a circumstance almost too interesting. There was nothing in all this waste of foresight and caution, she should have the credit of his employer and the welfare of a large portion of the park and gardens as ever. The little visitor meanwhile was as unhappy as most other married people. Do not be afraid of the inconvenience and disgrace they might be rectified. It will be a full ball or not!\n",
      "\n",
      "###\n",
      "\n",
      "Poor old Sir Archibald! Miss Crawford listened, and Edmund agreed to this. The quiet, heart-felt satisfaction of the old coachman, and send back proper messages, with cheerful looks. In chatting with Miss Tilney before the evening a favourable opportunity offered to me of attempting at least to know their ways, and to catch the comprehension of yours. Her friends evidently thought this good enough for her. However, I did not choose to join in the conversation of the ladies. There was some anxiety mixed with Lady Russell's joy in meeting her. They had not a lively party. The moment of her time, and influenced, in a like manner. Yours Ever, Anna Parker. It was to be our brother and sister, Henry, John--and Miss Smith. We sighed and fainted on the ground--I screamed and instantly ran mad--. We remained thus mutually deprived of our senses, some minutes, and on regaining them were deprived of them again.\n",
      "\n",
      "###\n",
      "\n",
      "I could not be controlled, and Elinor, satisfied with gaining one point, would not then attempt more. Catherine too made some purchases herself, and when all these matters were arranged, the important evening came which was to put Mansfield out of her head. And with regard to education is not very different. The following day brought news from Richmond to throw every thing else he was so near; and very evidently, though more fearfully, trying to induce his wife to go too. I heard him as I came into the country, would be that Barton cottage was taken: and I felt it my duty as a friend, Emma. They were then to be paid, to settle whether she were very pretty indeed, or only rather pretty, or not pretty at all. The various ascending noises convinced her that it was really a very handsome young man, and was equally sure that he would not like it.\n",
      "\n",
      "###\n",
      "\n",
      "It is too common a fault. I was resolved at any rate do not let us give the matter over as lost. It makes me miserable; but Mr. Johnson vows that if I could be aware of it, gave her a very good sort of fellow. She had no child to connect her with life and happiness again, and promised their father another letter of thanks. Why what in the world she most dreaded the influenza for her daughter's constitution!\n",
      "\n",
      "###\n",
      "\n",
      "Mrs. Jennings received the information of Captain Wentworth's party began talking of them. I knew how it would be. They all looked exceedingly foolish; and Edward seemed to have seized him at breakfast, and he had every reason to conclude her to be at work within the enclosure. On this subject, what can you have to say? He fancied bathing might be good for it--the warm bath--but she says it did him more good than all the rest!\n",
      "\n",
      "###\n",
      "\n"
     ]
    }
   ],
   "source": [
    "from scipy.stats import poisson\n",
    "import numpy as np\n",
    "\n",
    "def make_basic_documents(sentence_count=5, document_count=1, model=austen_model, seed=None):\n",
    "    def shortsentence(ct):\n",
    "        return \" \".join([model.make_short_sentence(200) for _ in range(ct + 1)])\n",
    "\n",
    "    if seed is not None:\n",
    "        # seed both the Python generator and the NumPy one used by SciPy\n",
    "        random.seed(seed)\n",
    "        np.random.seed(seed)\n",
    "    \n",
    "    return [shortsentence(ct) for ct in poisson.rvs(sentence_count, size=document_count)]\n",
    "\n",
    "for doc in make_basic_documents(5, 10, seed=0xdecaf):\n",
    "    print(doc)\n",
    "    print(\"\\n###\\n\")"
   ]
  },
  {
   "cell_type": "markdown",
   "metadata": {},
   "source": [
    "We're going to use the Austen model as the main basis for _legitimate messages_ in our sample data set.  For the _spam messages_, we'll train two Markov models on positive and negative product reviews (taken from the [public-domain Amazon fine foods reviews dataset on Kaggle](https://www.kaggle.com/snap/amazon-fine-food-reviews/)).  We'll combine the models from these sources in different proportions so that all words are _possible_ in certain kinds of messages but some words are _more likely_ in legitimate messages or in spam."
   ]
  },
  {
   "cell_type": "code",
   "execution_count": 3,
   "metadata": {},
   "outputs": [],
   "source": [
    "import gzip\n",
    "\n",
    "def train_markov_gz(fn):\n",
    "    \"\"\" trains a Markov model on gzipped text data \"\"\"\n",
    "    with gzip.open(fn, \"rt\", encoding=\"utf-8\") as f:\n",
    "        text = f.read()\n",
    "    return markovify.Text(text, retain_original=False, state_size=3)\n",
    "\n",
    "negative_model = train_markov_gz(\"data/reviews-1.txt.gz\")\n",
    "positive_model = train_markov_gz(\"data/reviews-5-100k.txt.gz\")"
   ]
  },
  {
   "cell_type": "markdown",
   "metadata": {},
   "source": [
    "We can combine these models with relative weights, but this yields somewhat unusual results:"
   ]
  },
  {
   "cell_type": "code",
   "execution_count": 4,
   "metadata": {},
   "outputs": [],
   "source": [
    "legitimate_model = markovify.combine([austen_model, negative_model, positive_model], [196, 2, 2])\n",
    "spam_model = markovify.combine([austen_model, negative_model, positive_model], [3, 30, 40])"
   ]
  },
  {
   "cell_type": "code",
   "execution_count": 5,
   "metadata": {},
   "outputs": [
    {
     "name": "stdout",
     "output_type": "stream",
     "text": [
      "Please keep a close eye on them because they are dried, so they can't travel around in search of them. This information made Elizabeth smile, as she thought of poor Miss Bingley. Some members of their society sent away, and the horses were baited, he was off. But every thing was soon in a fair way of soon knowing by heart. So far, the worst coffee I ever tried in my Keurig machine, socially responsible and sensitive way they're sourced and manufactured. That will just do for me, you know, to interfere. Well, I never observed that.\n",
      "\n",
      "###\n",
      "\n",
      "She had fallen into good hands earlier. I am so very unwell! I fancy Lord S. is very good-humoured and pleasant in his own apartment, had they sat in one equally lively; and she gave herself up for lost.\n",
      "\n",
      "###\n",
      "\n",
      "It was to herself an amusing and a very respectable man, though his name was Lindsay--for particular reasons however I shall conceal it under that of Talbot. What a delightful ball we had last night. But they always do, you know. Elizabeth replied very concisely that she was. If he had written it himself. I have used this product for a few minutes longer without saying much to anybody, went away. We also add finely chopped almonds to the mix instead of giving her independence; nobody that she could not think lightly of; but she was indeed behind, and too busy to want any other object. Robust, full-bodied and delightful. It was just the same; they saw nothing of Marianne till dinner time, when she entered the house; but meant, having once talked him handsomely over, to be no recommendation to _you_.\n",
      "\n",
      "###\n",
      "\n",
      "I guess you get what you pay for with these. The room was most dear to me; to banish myself from the very person who had mostly engaged their attention. Sleeping or waking, my head has been full of this matter all night. Mrs. Gardiner and Elizabeth talked of all that had rushed on her within the last week, to get up a few scenes, a mere trifle. The stupidest fellow! He and Mrs. Weston a great deal more. The Jewels I should imagine too will undoubtedly be hers, and there is no occasion for making it a general concern, when Kitty left them she went boldly on with him alone.\n",
      "\n",
      "###\n",
      "\n",
      "The moist food is about $0.54 per day and some dry food, a combination of charms for Fanny, as made her quite sorry to acknowledge that the wind had been rising into gentility and property. She, who had seen so much variety in his address to her sister should perceive that she experienced nothing but grief and disappointment in seeing him. She thanked him for his friendship to William! But I dare say, Mr. Morland, you long to be made of my coming! No, no. I am every instant hearing something which overpowers me. How have I delighted, as I walked, to see them again--for till she married, last October, she was never away from them not any longer. Unlike some reviewers, I only bought this to have had some weight.\n",
      "\n",
      "###\n",
      "\n",
      "My mother often talks of your good-nature. Adeiu my dear Charlotte; Matilda unites in best wishes to you, and if you rub your eyes, etc. you will NOT be buying from this seller and this product. People who also simply love that strong spearmint taste will delight in these, too.Great job, Altoids! Do help me. I decided to give it a thought.\n",
      "\n",
      "###\n",
      "\n",
      "The only certainty to be drawn by four horses; and this, while it told the excess of her poor mother's alarm, gave some explanation to such unexpected rapidity. The past was nothing. And what inclines one less to bear, she has no judgment at all; indeed, she does me a great deal the best. It was an alarming change; and Emma could not think any man to be trusted. I can't really say I would recommend ordering these in the really tiny version of the soup. You do us justice, indeed.\n",
      "\n",
      "###\n",
      "\n",
      "In a softened tone she declared herself as much as you could in planning the marriage. I've found them on the very morning of his setting off for church the next day with her congratulations, that she had been riding before, I should have made a stronger impression on his uncle. The shipping cost seemed a bit gritty, but is no substitute. He was often hoping, intending to come--but was always prevented. As there are other circumstances which I am glad I did not know what was become of him. Rather than the complex, creamy sauce you expect on Butter Chicken, this tastes more like ginger cookie. They ought to have been very miserable; but being satisfied on seeing her mother's servant, on hearing Lucy's message! I do not think I could place them in such a question, it might be of some small use to you with respect to Jane--his unpardonable assurance in acknowledging, though he could not do it justice at all.\n",
      "\n",
      "###\n",
      "\n",
      "He was particularly grave the whole morning. And a delightful dance it was to bring her to converse on the important subject. Elizabeth answered only by a steady contrary wind, or a calm. Miss Bertram was pleased to know how early he might be always as well disposed as herself to avoid a meeting. I like beef jerky with an overwhelmingly raw garlic/chili favor. With all these circumstances, recollections and feelings, she could not speak another word to say. Mr. Weston, who had been calling much oftener than Emma could have supposed. I've never had an inkling to buy a box of Murray cookies. Mr. Bennet replied that he did, and nobody else could have saved poor James. He was to be describing and recommending matrimony to me. Sir Thomas had been twice as long on his passage, or were still in Antigua.\n",
      "\n",
      "###\n",
      "\n",
      "All I have ever found it..please snapple..you need to make great snacks or even meal substitutes. Elinor, without observing the varying complexion of her sister, seen a check to the other. My family says that my taste buds weren't off. Mrs. Jennings, who knew nothing of that; they only felt how imprudent a match it must be. There's just something about drinking out of a cracked coconut at all.\n",
      "\n",
      "###\n",
      "\n",
      "LETTER the 14th LAURA in continuation They had been instructed theoretically in their religion, but never required to bring it in view. If Frank Churchill had wanted to see us. I tried a case of humanity to him;--and for an act of kindness by Susan, which, after many hesitations of delicacy, she at last worked herself up to. And the Wintergreen flavor is not found anywhere cheaper.This English Breakfast Tea for many years and enjoyed all other brands fall short of. Thank you, thank you, thank you! Chapter 11 When the ladies returned to the drawing room repeated to the young ladies to Hartfield gates, before they set off for Wiltshire.\n",
      "\n",
      "###\n",
      "\n",
      "It would be almost beginning their life of civility again. I was trying to trace in them the ruins of the face on which his influence failed, he then mentioned. They are all great. She had raised herself from the ground, but her foot had been twisted in her fall, and she was always right.\n",
      "\n",
      "###\n",
      "\n",
      "The old biscuits were great, I gave them one star because the chips arrived in terrible condition. As this silence continued, every day made it appear more strange and more incompatible with the Tassimo coffee maker!!! I was searching for a coffee run and are helpful when traveling. Celiacs beware- there is something wanting--his figure is not striking; but I think there may be nothing durable beneath. But no sooner had he left them a thousand pounds would be necessary to each other's ultimate comfort. Be assured that I must have endured in hearing it bandied between the Eltons with all the four together often enough to have had some scruples. Anyway, the pasta is done, drain it and remove the pit; sprinkle a pinch of Cinnamon to it, but the Petco doesn't. Her niece was, therefore, obliged to submit, and they took their station by one of them, but so it was. I keep these in a sampler pack and the price is outrageous. It was as much as possible, as well as she could, soon left them to themselves. All those things should be allowed for the hesitations and reservations which invariably beset the critical pioneer.\n",
      "\n",
      "###\n",
      "\n",
      "I hope they fix this problem, and they did replace the item with another product of theirs either. I took a chance andordered a second case and every can in the morning of what had kept him away. Since now I have three unanswerable reasons for disliking Colonel Brandon; he threatened me with rain when I wanted to love this snack. Mr. Crawford was in the street? I was looking for an actual artificial butter flavor, that you could tolerate nothing that you were about five times as pretty as she could now manage them with perfect ease. But I know they are a bit thicker than the lighter grades. Even my wife who is not taken in when they marry.\n",
      "\n",
      "###\n",
      "\n",
      "Emma found that his visit to Rosings was to end on the day of the regiment's remaining at Meryton, he dined, with other of the officers, to whom her own behaviour was far from being independent. Poor Mr. Woodhouse trembled as he sat, and, as Emma had foreseen, would scarcely be ten pounds a year the loser by the hundred that was to die for. Mrs. Norris, however, relieved him. Marianne was still handsomer. Best breakfast tea I've ever had. Mrs. Dashwood _would_ sit up with her all night; and Elinor, in compliance with any particular paper edition.\n",
      "\n",
      "###\n",
      "\n",
      "And the distinction is not quite the luckiest, to yield only to herself. He had ridden home through the rain; and had walked up directly after dinner, to see how he is likely to become a standing joke with Mrs. Jennings. CHAPTER XXXVIII Mrs. Jennings was perfectly true. This was the first to be only yours truly,--Wm. We promised that we would, and he set forwards on his journey to Town. I was skeptical about trying this new organic coconut milk, which is great as a snack in one sitting. I looked but did not live to do it. Just pace yourself when eating and share with friends and disinterested advisers, than immediately to throw the rest out. He was nice in his eating, she had, by her own family, people of respectability as they are, she may recover her footing in society to a certain degree. Good fires and carriages would be much better for you. Mrs. Collins knew not what she saw, to be very seriously in love, their preference of each other for that time. And at last, as if resolved to have some kind and compassionate Freind who might listen to my sorrows without endeavouring to console me was what I said immediately.\n",
      "\n",
      "###\n",
      "\n",
      "I fancy Lord S. is very good-humoured and pleasant in his own room. A short, a very short distance of you. Her daughter did not look, however, as if much of it he could have wished her to belong to Highbury. The most trivial, paltry, insignificant part; the merest commonplace; not a tolerable speech in the whole.\n",
      "\n",
      "###\n",
      "\n",
      "She must wait a moment, and then ushered her in too soon. All I can say about this product.... perfect don't change anything! They had been instructed theoretically in their religion, but never required to bring it into play; it was overwhelmed, buried, lost in those earlier feelings which I know you _cannot_ have a fire. The illustration on page 290 is missing from the book. Elizabeth now began to revive. It became her turn to listen. It was a beautiful evening, mild and still, and the drive was as pleasant as the serenity of a mind awakened to reasonable exertion; for no sooner had they entered the house again at the same moment. Sophia was rather above the middle size; most elegantly formed. They were lucky enough to get lodged in their throat.\n",
      "\n",
      "###\n",
      "\n",
      "Wrong.\n",
      "\n",
      "###\n",
      "\n",
      "I wrote a complaint to the manufacturer would specify that these capsules might help me to control their weight and meets the needs of all our difficulties. It was nothing more than a single look, at Miss Fairfax, who was still overpowered by the impression. I recieved this oil last week and found you alone, I think and plan. This is worth every cent! Do you sit where you like? His company so sought after, that every body looks up to, quite like Mr. Knightley! A day or two passed away and brought no tidings of Captain Tilney. She heard Miss Bates's voice, something was to be the case; and after various conjectures, they could at last only suppose his visit to Rosings was to end on the day after the next.\n",
      "\n",
      "###\n",
      "\n"
     ]
    }
   ],
   "source": [
    "# seed both the Python generator and the NumPy one used by SciPy\n",
    "random.seed(0xc0ffee)\n",
    "np.random.seed(0xc0ffee)\n",
    "\n",
    "for s in make_basic_documents(5, 20, legitimate_model):\n",
    "    print(s)\n",
    "    print(\"\\n###\\n\")"
   ]
  },
  {
   "cell_type": "code",
   "execution_count": 6,
   "metadata": {
    "scrolled": true
   },
   "outputs": [
    {
     "name": "stdout",
     "output_type": "stream",
     "text": [
      "Give it a try! I just added 2 tbsp to the dish when making it; reminiscent of Kraft Mac and Cheese. Practically inedible. Finally, I put my pet on Iams and the digestive system. There are other sources for this product. Aside from being a very yummy tasting brownie. Spinach and mango? Its a wonder I even can recall what it tasted like.\n",
      "\n",
      "###\n",
      "\n",
      "I love them for breakfast. Poison.They are not exaggerated reviews - it is lightly crunchy without destroying my dental work. That oiliness is natural and organic--no fields of wheat were sprayed with perfume and then dipped in tropical syrup. Even as I held the treat in half. It has a wonderfully light coconut, mango flavor. I put this candy out and in no way resembles chicken.\n",
      "\n",
      "###\n",
      "\n",
      "As for the looks, I don't mind nearly as much! I'm sure it is the highest temperature you can let it steep very long, which is great as a snack twice a day. Why? I typically enjoy smooth medium roasts and I prefer to sweeten my coffee for nothing. I used part of this for me they are nothing alike. There is really nothing not to like about oversized Sour Patch watermelons? Will definately buy again, and am disappointed that Pedigree would allow such nastiness.\n",
      "\n",
      "###\n",
      "\n",
      "Super flavor. If you grew up on these, but they taste like a yahoo......What a waste of money. Nice smooth taste, no acidity problem or burned flavor, and like the rest. I was reaching for the Christmas season. Them my Dr. instructed me to make sure our two newly adopted cats would get the same exact thing... that's bad. You won't miss a thing!No unnatural ingredients, high fiber and low in things like oranges and apples depending on the flavor of coffee.\n",
      "\n",
      "###\n",
      "\n",
      "Never to be used with a full almond flavor! i baked my first ever Irish Oats/Steel Cut. The initial punch of heat fades out quickly to make way for the salty, slightly smoky flavor of soy sauce, making it a bargain. Was really surprised by the stand-out flavor. These have a decent amount of oil, instead of nasty rancid soybean oil. Forget about breaking them up into small pieces for training. But make no mistake it is definitely not vegan. Start slow, to much can cause an after taste.\n",
      "\n",
      "###\n",
      "\n",
      "It also has small squares of dark chocolate powder. I will not purchase another product from Wellness. I have been pleased with shipments of biscotti in the past and are very cost prohibitive. This thing is worthless! The rest is history. It has nice texture because of the cocoa butter in your white chips changes your image from a premium brand to just a few really old jars left and sent them to my family. I have been buying and drinking this reminds me of a long bike ride. it was so great. Love the potato, whitefish mix by the way. Their french roast is expecially frenchy, very bitter!!!So what do I do?\n",
      "\n",
      "###\n",
      "\n",
      "It definitely has a weird after taste.Martinis is just pure whole, roasted flax seed. I use Rancilio Silvia espresso machine. Everyone enjoyed them so much, I will be making a switch to turn it on. It tasted so overwhelming bad that I was doing this to her for so long. This tea is great for taking on the road this is such a great shipping rate it was a no brainer for me. Works great for baking as there are no strings or tags, just steep add agave or honey to sweeten...it is a little sweeter and is more crisp a crunchy. The drink tastes clean, not too sweet, smooth and easy to use. I like the brewing in this sort of thing you can make them yourself easily but when you are out.\n",
      "\n",
      "###\n",
      "\n",
      "Nuff said. Sadly, Folgers or any of the other flavors, but this one's certainly at the top of the can, but i couldn't get these down. it literally made me gag. I actually use even less salt during cooking anyway, at least not much in the seller for not pointing out the change in their coats,so shiny and soft. The coffee I received had absolutely no flavor to mention.Worst candy I ever eaten. With the free shipping, the price per can. Our vet gave her some turkey tonight. Ingredients are dates, pecans, and almonds- amazingly simple!Highly recommended. Otherwise, spend your money on this one. I brought it home, made a cup for dinner for 2. I am always hearing great things about Blue Buffalo and Eukanuba in the past and how we would want to investigate what it's made of - hydrogenated soybean oil.\n",
      "\n",
      "###\n",
      "\n",
      "This halvah was a real waste. I just had an idea.. NOT A TERRIFIC DEAL. I drink it without adding a lot of urinary and kidney problems when fed exlusively. I'm soooo excited I just bought the tub of 96 tiny Greenies.\n",
      "\n",
      "###\n",
      "\n",
      "We think so too! Also, terrible consistency....like taffy.\n",
      "\n",
      "###\n",
      "\n",
      "The only difference is the terroir, or the ground/land, where this sugar is grown. Left a metallic tinge in my mouth. Hopefully she'll continue to like the taste of really dark chocolate flavor.\n",
      "\n",
      "###\n",
      "\n",
      "I have not given these rawhide to my dogs so miserable because of something I enjoy. The price can't be beat. Next time I am going to continue to use it forever! Carne guisada is a Mexican form of beef stew, and works well with the fresh, grassy matcha. It actually takes the problem away totally and makes you ready for sleep! These are the BEST Pumpkin Pie Bars are out of this world. Like an idiot, I actually decided to taste the green tea makes Stash Chai Green Tea a great pick-me-up during the day! have tried several Horchata drink mixes in general.\n",
      "\n",
      "###\n",
      "\n",
      "Oh well, I enjoy Costco's gf pasta. I always have orange and lemon zest for cooking, when I don't have a clue. The 32-ounce boxes of no-sugar-added Swiss Muesli are chock full of benefits. I'd much rather have some regular instant oatmeal and enjoy breakfast. Add one cup of coffee. One set of leaves did fall off, and that made me interested in them.\n",
      "\n",
      "###\n",
      "\n",
      "Easy to make ice tea, it is wonderfully fragrant and delicious. Since I paid for the pack of 6; each of the 3 rings that go on the internet that would indicate any safety concerns with this drink. If you haven't tried this, I really didn't want a bunch of stale food i had to throw them out. It is smooth, good flavor, no bitterness, and no heartburn.Use: This is a must for nutrition and heart heathy minded families. Thanks! I am a Marcona Almond FREAK.\n",
      "\n",
      "###\n",
      "\n",
      "After sampling about every K-Cup out there, I loved the old Greenies. He had a problem with keeping weight on even though he chews on them for such a great price on amazon. I order it on line and advise the Lion's Brand company to reconsider marketing swill to a formerly loyal customer base. I finally settled on the OfficePro. People who've tried bad quality stevia in the raw...for the price this is not as crazy about it either. He eats everything! This way, the blood sugar on myhusband which is diabetic. The ingredients list is printed on the package are rooibus, chamomile, carob, cinnamon, cloves, chai blend, orange peel and this leadsto a really strong cup of coffee.My second cup I brewed was awful. I have peace of mind to make such salty sun flower seeds with big shavings of coconut, oat flour covered dates, raisins.\n",
      "\n",
      "###\n",
      "\n",
      "Wow! It is the perfect sause. I love Popchips because they are addicting! It is a delicious product.I have made roasted barley tea from scratch.This is much easier for my son who is quite the opposite actually. I have tried several flavors, and they were just as crunchy as Cheetos and don't turn to crumbs at the bottom would work, and it does. It is delicious! I was worried about them being smelly. I am a huge fan of Dunkin Donuts and get a desired result, I just gave up, they will not touch it. Over a three week period we have observed a reasonable reduction in the amount you get.\n",
      "\n",
      "###\n",
      "\n",
      "I had a ton of it. I feel terrible for giving them their mommy back.Try it promise you won't be disappointed. If you want a treat get a peanut butter that I appreciate.In the US we have the real matcha.\n",
      "\n",
      "###\n",
      "\n",
      "I ordered this product because it is a cup and it didn't upset my stomach/gi tract. You can imagine the calories I saved and I have a German Breed, G.Sheph. Good with Tequila too. No corn, white flour, or unhealthy animal fats here. Then the blending... unfortunately, this product is not a BBQ rub. With the large container, you save a couple of cans as gifts. She had skin problems.\n",
      "\n",
      "###\n",
      "\n",
      "Horrible taste. I drink my coffee black with nothing in between. I would deffinately buy this product again, just because of the free shipping. They always pick it back up and it makes her happy and her teeth are improving, and it doesn't have the alcohol and deliver the same flavor spot. I have many food allergies. It still sits around unused. I thought she smelled more flowery, more reminiscent of roses, though not quite. OH MY WORD!! I love these, I found it a little finer.\n",
      "\n",
      "###\n",
      "\n",
      "Best sour gummy ever, great flavors! All you really need to try the Kodiak Cakes and I am hooked. If you're looking for a back up if my supermarket drops them, it will blow you away. If you like gooey or soft chocolate chips cookies those are not really that strong love it. will be buying more.\n",
      "\n",
      "###\n",
      "\n"
     ]
    }
   ],
   "source": [
    "random.seed(0xf00)\n",
    "np.random.seed(0xf00)\n",
    "\n",
    "for s in make_basic_documents(5, 20, spam_model):\n",
    "    print(s)\n",
    "    print(\"\\n###\\n\")"
   ]
  },
  {
   "cell_type": "markdown",
   "metadata": {},
   "source": [
    "We can then generate some example documents and save them to a file for use in the next notebook.  "
   ]
  },
  {
   "cell_type": "code",
   "execution_count": 7,
   "metadata": {},
   "outputs": [],
   "source": [
    "import pandas as pd\n",
    "import numpy as np\n",
    "\n",
    "pd.set_option(\"io.parquet.engine\", \"pyarrow\")\n",
    "\n",
    "random.seed(0xda7aba5e)\n",
    "np.random.seed(0xda7aba5e)\n",
    "\n",
    "df = pd.DataFrame(columns=[\"label\", \"text\"], dtype=np.dtype(str))\n",
    "\n",
    "mean_sentences_per_example = 5\n",
    "examples_per_class = 20000\n",
    "\n",
    "for (label, model) in [(\"legitimate\", legitimate_model), (\"spam\", spam_model)]:\n",
    "    docs = [{\"label\" : label, \"text\" : txt} for txt in make_basic_documents(mean_sentences_per_example, examples_per_class, model)]\n",
    "    df = pd.concat([df, pd.DataFrame(docs)])\n",
    "\n",
    "df[\"text\"] = df[\"text\"].astype(\"str\")\n",
    "df[\"label\"] = df[\"label\"].astype(\"category\")\n",
    "df.to_parquet(\"data/training.parquet\")"
   ]
  },
  {
   "cell_type": "markdown",
   "metadata": {},
   "source": [
    "Let's go to [the next notebook](01-vectors-and-visualization.ipynb) now!"
   ]
  }
 ],
 "metadata": {
  "kernelspec": {
   "display_name": "Python 3.6",
   "language": "python",
   "name": "jupyter"
  },
  "language_info": {
   "codemirror_mode": {
    "name": "ipython",
    "version": 3
   },
   "file_extension": ".py",
   "mimetype": "text/x-python",
   "name": "python",
   "nbconvert_exporter": "python",
   "pygments_lexer": "ipython3",
   "version": "3.6.5"
  }
 },
 "nbformat": 4,
 "nbformat_minor": 2
}
